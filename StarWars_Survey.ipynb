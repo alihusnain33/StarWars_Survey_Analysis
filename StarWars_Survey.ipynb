{
 "cells": [
  {
   "cell_type": "markdown",
   "metadata": {},
   "source": [
    "## Star Wars Movies Survey Analysis"
   ]
  },
  {
   "cell_type": "code",
   "execution_count": 77,
   "metadata": {},
   "outputs": [],
   "source": [
    "import pandas as pd\n",
    "import numpy as np"
   ]
  },
  {
   "cell_type": "code",
   "execution_count": 78,
   "metadata": {},
   "outputs": [],
   "source": [
    "from bokeh.io import output_file, output_notebook\n",
    "from bokeh.plotting import figure, show\n",
    "from bokeh.models import ColumnDataSource\n",
    "from bokeh.layouts import row, column, gridplot\n",
    "from bokeh.models.widgets import Tabs, Panel\n",
    "from bokeh.models import ColumnDataSource\n",
    "from bokeh.palettes import Spectral6\n",
    "from bokeh.plotting import reset_output"
   ]
  },
  {
   "cell_type": "code",
   "execution_count": 79,
   "metadata": {},
   "outputs": [],
   "source": [
    "import matplotlib.pyplot as plt\n",
    "%matplotlib inline"
   ]
  },
  {
   "cell_type": "markdown",
   "metadata": {},
   "source": [
    "Reading the csv file and checking first few rows of dataset"
   ]
  },
  {
   "cell_type": "code",
   "execution_count": 80,
   "metadata": {},
   "outputs": [],
   "source": [
    "data =pd.read_csv(\"StarWars.csv\",encoding = \"ISO-8859–1\") #pass encoding parmeter to solve encoding problem while opening file"
   ]
  },
  {
   "cell_type": "code",
   "execution_count": 81,
   "metadata": {},
   "outputs": [
    {
     "data": {
      "text/html": [
       "<div>\n",
       "<style scoped>\n",
       "    .dataframe tbody tr th:only-of-type {\n",
       "        vertical-align: middle;\n",
       "    }\n",
       "\n",
       "    .dataframe tbody tr th {\n",
       "        vertical-align: top;\n",
       "    }\n",
       "\n",
       "    .dataframe thead th {\n",
       "        text-align: right;\n",
       "    }\n",
       "</style>\n",
       "<table border=\"1\" class=\"dataframe\">\n",
       "  <thead>\n",
       "    <tr style=\"text-align: right;\">\n",
       "      <th></th>\n",
       "      <th>RespondentID</th>\n",
       "      <th>Have you seen any of the 6 films in the Star Wars franchise?</th>\n",
       "      <th>Do you consider yourself to be a fan of the Star Wars film franchise?</th>\n",
       "      <th>Which of the following Star Wars films have you seen? Please select all that apply.</th>\n",
       "      <th>Unnamed: 4</th>\n",
       "      <th>Unnamed: 5</th>\n",
       "      <th>Unnamed: 6</th>\n",
       "      <th>Unnamed: 7</th>\n",
       "      <th>Unnamed: 8</th>\n",
       "      <th>Please rank the Star Wars films in order of preference with 1 being your favorite film in the franchise and 6 being your least favorite film.</th>\n",
       "      <th>...</th>\n",
       "      <th>Unnamed: 28</th>\n",
       "      <th>Which character shot first?</th>\n",
       "      <th>Are you familiar with the Expanded Universe?</th>\n",
       "      <th>Do you consider yourself to be a fan of the Expanded Universe?æ</th>\n",
       "      <th>Do you consider yourself to be a fan of the Star Trek franchise?</th>\n",
       "      <th>Gender</th>\n",
       "      <th>Age</th>\n",
       "      <th>Household Income</th>\n",
       "      <th>Education</th>\n",
       "      <th>Location (Census Region)</th>\n",
       "    </tr>\n",
       "  </thead>\n",
       "  <tbody>\n",
       "    <tr>\n",
       "      <th>0</th>\n",
       "      <td>NaN</td>\n",
       "      <td>Response</td>\n",
       "      <td>Response</td>\n",
       "      <td>Star Wars: Episode I  The Phantom Menace</td>\n",
       "      <td>Star Wars: Episode II  Attack of the Clones</td>\n",
       "      <td>Star Wars: Episode III  Revenge of the Sith</td>\n",
       "      <td>Star Wars: Episode IV  A New Hope</td>\n",
       "      <td>Star Wars: Episode V The Empire Strikes Back</td>\n",
       "      <td>Star Wars: Episode VI Return of the Jedi</td>\n",
       "      <td>Star Wars: Episode I  The Phantom Menace</td>\n",
       "      <td>...</td>\n",
       "      <td>Yoda</td>\n",
       "      <td>Response</td>\n",
       "      <td>Response</td>\n",
       "      <td>Response</td>\n",
       "      <td>Response</td>\n",
       "      <td>Response</td>\n",
       "      <td>Response</td>\n",
       "      <td>Response</td>\n",
       "      <td>Response</td>\n",
       "      <td>Response</td>\n",
       "    </tr>\n",
       "    <tr>\n",
       "      <th>1</th>\n",
       "      <td>3.292880e+09</td>\n",
       "      <td>Yes</td>\n",
       "      <td>Yes</td>\n",
       "      <td>Star Wars: Episode I  The Phantom Menace</td>\n",
       "      <td>Star Wars: Episode II  Attack of the Clones</td>\n",
       "      <td>Star Wars: Episode III  Revenge of the Sith</td>\n",
       "      <td>Star Wars: Episode IV  A New Hope</td>\n",
       "      <td>Star Wars: Episode V The Empire Strikes Back</td>\n",
       "      <td>Star Wars: Episode VI Return of the Jedi</td>\n",
       "      <td>3</td>\n",
       "      <td>...</td>\n",
       "      <td>Very favorably</td>\n",
       "      <td>I don't understand this question</td>\n",
       "      <td>Yes</td>\n",
       "      <td>No</td>\n",
       "      <td>No</td>\n",
       "      <td>Male</td>\n",
       "      <td>18-29</td>\n",
       "      <td>NaN</td>\n",
       "      <td>High school degree</td>\n",
       "      <td>South Atlantic</td>\n",
       "    </tr>\n",
       "    <tr>\n",
       "      <th>2</th>\n",
       "      <td>3.292880e+09</td>\n",
       "      <td>No</td>\n",
       "      <td>NaN</td>\n",
       "      <td>NaN</td>\n",
       "      <td>NaN</td>\n",
       "      <td>NaN</td>\n",
       "      <td>NaN</td>\n",
       "      <td>NaN</td>\n",
       "      <td>NaN</td>\n",
       "      <td>NaN</td>\n",
       "      <td>...</td>\n",
       "      <td>NaN</td>\n",
       "      <td>NaN</td>\n",
       "      <td>NaN</td>\n",
       "      <td>NaN</td>\n",
       "      <td>Yes</td>\n",
       "      <td>Male</td>\n",
       "      <td>18-29</td>\n",
       "      <td>$0 - $24,999</td>\n",
       "      <td>Bachelor degree</td>\n",
       "      <td>West South Central</td>\n",
       "    </tr>\n",
       "    <tr>\n",
       "      <th>3</th>\n",
       "      <td>3.292765e+09</td>\n",
       "      <td>Yes</td>\n",
       "      <td>No</td>\n",
       "      <td>Star Wars: Episode I  The Phantom Menace</td>\n",
       "      <td>Star Wars: Episode II  Attack of the Clones</td>\n",
       "      <td>Star Wars: Episode III  Revenge of the Sith</td>\n",
       "      <td>NaN</td>\n",
       "      <td>NaN</td>\n",
       "      <td>NaN</td>\n",
       "      <td>1</td>\n",
       "      <td>...</td>\n",
       "      <td>Unfamiliar (N/A)</td>\n",
       "      <td>I don't understand this question</td>\n",
       "      <td>No</td>\n",
       "      <td>NaN</td>\n",
       "      <td>No</td>\n",
       "      <td>Male</td>\n",
       "      <td>18-29</td>\n",
       "      <td>$0 - $24,999</td>\n",
       "      <td>High school degree</td>\n",
       "      <td>West North Central</td>\n",
       "    </tr>\n",
       "    <tr>\n",
       "      <th>4</th>\n",
       "      <td>3.292763e+09</td>\n",
       "      <td>Yes</td>\n",
       "      <td>Yes</td>\n",
       "      <td>Star Wars: Episode I  The Phantom Menace</td>\n",
       "      <td>Star Wars: Episode II  Attack of the Clones</td>\n",
       "      <td>Star Wars: Episode III  Revenge of the Sith</td>\n",
       "      <td>Star Wars: Episode IV  A New Hope</td>\n",
       "      <td>Star Wars: Episode V The Empire Strikes Back</td>\n",
       "      <td>Star Wars: Episode VI Return of the Jedi</td>\n",
       "      <td>5</td>\n",
       "      <td>...</td>\n",
       "      <td>Very favorably</td>\n",
       "      <td>I don't understand this question</td>\n",
       "      <td>No</td>\n",
       "      <td>NaN</td>\n",
       "      <td>Yes</td>\n",
       "      <td>Male</td>\n",
       "      <td>18-29</td>\n",
       "      <td>$100,000 - $149,999</td>\n",
       "      <td>Some college or Associate degree</td>\n",
       "      <td>West North Central</td>\n",
       "    </tr>\n",
       "  </tbody>\n",
       "</table>\n",
       "<p>5 rows × 38 columns</p>\n",
       "</div>"
      ],
      "text/plain": [
       "   RespondentID Have you seen any of the 6 films in the Star Wars franchise?  \\\n",
       "0           NaN                                           Response             \n",
       "1  3.292880e+09                                                Yes             \n",
       "2  3.292880e+09                                                 No             \n",
       "3  3.292765e+09                                                Yes             \n",
       "4  3.292763e+09                                                Yes             \n",
       "\n",
       "  Do you consider yourself to be a fan of the Star Wars film franchise?  \\\n",
       "0                                           Response                      \n",
       "1                                                Yes                      \n",
       "2                                                NaN                      \n",
       "3                                                 No                      \n",
       "4                                                Yes                      \n",
       "\n",
       "  Which of the following Star Wars films have you seen? Please select all that apply.  \\\n",
       "0           Star Wars: Episode I  The Phantom Menace                                    \n",
       "1           Star Wars: Episode I  The Phantom Menace                                    \n",
       "2                                                NaN                                    \n",
       "3           Star Wars: Episode I  The Phantom Menace                                    \n",
       "4           Star Wars: Episode I  The Phantom Menace                                    \n",
       "\n",
       "                                    Unnamed: 4  \\\n",
       "0  Star Wars: Episode II  Attack of the Clones   \n",
       "1  Star Wars: Episode II  Attack of the Clones   \n",
       "2                                          NaN   \n",
       "3  Star Wars: Episode II  Attack of the Clones   \n",
       "4  Star Wars: Episode II  Attack of the Clones   \n",
       "\n",
       "                                    Unnamed: 5  \\\n",
       "0  Star Wars: Episode III  Revenge of the Sith   \n",
       "1  Star Wars: Episode III  Revenge of the Sith   \n",
       "2                                          NaN   \n",
       "3  Star Wars: Episode III  Revenge of the Sith   \n",
       "4  Star Wars: Episode III  Revenge of the Sith   \n",
       "\n",
       "                          Unnamed: 6  \\\n",
       "0  Star Wars: Episode IV  A New Hope   \n",
       "1  Star Wars: Episode IV  A New Hope   \n",
       "2                                NaN   \n",
       "3                                NaN   \n",
       "4  Star Wars: Episode IV  A New Hope   \n",
       "\n",
       "                                     Unnamed: 7  \\\n",
       "0  Star Wars: Episode V The Empire Strikes Back   \n",
       "1  Star Wars: Episode V The Empire Strikes Back   \n",
       "2                                           NaN   \n",
       "3                                           NaN   \n",
       "4  Star Wars: Episode V The Empire Strikes Back   \n",
       "\n",
       "                                 Unnamed: 8  \\\n",
       "0  Star Wars: Episode VI Return of the Jedi   \n",
       "1  Star Wars: Episode VI Return of the Jedi   \n",
       "2                                       NaN   \n",
       "3                                       NaN   \n",
       "4  Star Wars: Episode VI Return of the Jedi   \n",
       "\n",
       "  Please rank the Star Wars films in order of preference with 1 being your favorite film in the franchise and 6 being your least favorite film.  \\\n",
       "0           Star Wars: Episode I  The Phantom Menace                                                                                              \n",
       "1                                                  3                                                                                              \n",
       "2                                                NaN                                                                                              \n",
       "3                                                  1                                                                                              \n",
       "4                                                  5                                                                                              \n",
       "\n",
       "            ...                  Unnamed: 28  \\\n",
       "0           ...                         Yoda   \n",
       "1           ...               Very favorably   \n",
       "2           ...                          NaN   \n",
       "3           ...             Unfamiliar (N/A)   \n",
       "4           ...               Very favorably   \n",
       "\n",
       "        Which character shot first?  \\\n",
       "0                          Response   \n",
       "1  I don't understand this question   \n",
       "2                               NaN   \n",
       "3  I don't understand this question   \n",
       "4  I don't understand this question   \n",
       "\n",
       "  Are you familiar with the Expanded Universe?  \\\n",
       "0                                     Response   \n",
       "1                                          Yes   \n",
       "2                                          NaN   \n",
       "3                                           No   \n",
       "4                                           No   \n",
       "\n",
       "  Do you consider yourself to be a fan of the Expanded Universe?æ  \\\n",
       "0                                           Response                 \n",
       "1                                                 No                 \n",
       "2                                                NaN                 \n",
       "3                                                NaN                 \n",
       "4                                                NaN                 \n",
       "\n",
       "  Do you consider yourself to be a fan of the Star Trek franchise?    Gender  \\\n",
       "0                                           Response                Response   \n",
       "1                                                 No                    Male   \n",
       "2                                                Yes                    Male   \n",
       "3                                                 No                    Male   \n",
       "4                                                Yes                    Male   \n",
       "\n",
       "        Age     Household Income                         Education  \\\n",
       "0  Response             Response                          Response   \n",
       "1     18-29                  NaN                High school degree   \n",
       "2     18-29         $0 - $24,999                   Bachelor degree   \n",
       "3     18-29         $0 - $24,999                High school degree   \n",
       "4     18-29  $100,000 - $149,999  Some college or Associate degree   \n",
       "\n",
       "  Location (Census Region)  \n",
       "0                 Response  \n",
       "1           South Atlantic  \n",
       "2       West South Central  \n",
       "3       West North Central  \n",
       "4       West North Central  \n",
       "\n",
       "[5 rows x 38 columns]"
      ]
     },
     "execution_count": 81,
     "metadata": {},
     "output_type": "execute_result"
    }
   ],
   "source": [
    "data.head()"
   ]
  },
  {
   "cell_type": "code",
   "execution_count": 82,
   "metadata": {},
   "outputs": [
    {
     "name": "stdout",
     "output_type": "stream",
     "text": [
      "(1187, 38)\n"
     ]
    }
   ],
   "source": [
    "print(data.shape)"
   ]
  },
  {
   "cell_type": "code",
   "execution_count": 83,
   "metadata": {},
   "outputs": [
    {
     "name": "stdout",
     "output_type": "stream",
     "text": [
      "Index(['RespondentID',\n",
      "       'Have you seen any of the 6 films in the Star Wars franchise?',\n",
      "       'Do you consider yourself to be a fan of the Star Wars film franchise?',\n",
      "       'Which of the following Star Wars films have you seen? Please select all that apply.',\n",
      "       'Unnamed: 4', 'Unnamed: 5', 'Unnamed: 6', 'Unnamed: 7', 'Unnamed: 8',\n",
      "       'Please rank the Star Wars films in order of preference with 1 being your favorite film in the franchise and 6 being your least favorite film.',\n",
      "       'Unnamed: 10', 'Unnamed: 11', 'Unnamed: 12', 'Unnamed: 13',\n",
      "       'Unnamed: 14',\n",
      "       'Please state whether you view the following characters favorably, unfavorably, or are unfamiliar with him/her.',\n",
      "       'Unnamed: 16', 'Unnamed: 17', 'Unnamed: 18', 'Unnamed: 19',\n",
      "       'Unnamed: 20', 'Unnamed: 21', 'Unnamed: 22', 'Unnamed: 23',\n",
      "       'Unnamed: 24', 'Unnamed: 25', 'Unnamed: 26', 'Unnamed: 27',\n",
      "       'Unnamed: 28', 'Which character shot first?',\n",
      "       'Are you familiar with the Expanded Universe?',\n",
      "       'Do you consider yourself to be a fan of the Expanded Universe?æ',\n",
      "       'Do you consider yourself to be a fan of the Star Trek franchise?',\n",
      "       'Gender', 'Age', 'Household Income', 'Education',\n",
      "       'Location (Census Region)'],\n",
      "      dtype='object')\n"
     ]
    }
   ],
   "source": [
    "print(data.columns)"
   ]
  },
  {
   "cell_type": "code",
   "execution_count": 84,
   "metadata": {},
   "outputs": [
    {
     "name": "stdout",
     "output_type": "stream",
     "text": [
      "<class 'pandas.core.frame.DataFrame'>\n",
      "RangeIndex: 1187 entries, 0 to 1186\n",
      "Data columns (total 38 columns):\n",
      "RespondentID                                                                                                                                     1186 non-null float64\n",
      "Have you seen any of the 6 films in the Star Wars franchise?                                                                                     1187 non-null object\n",
      "Do you consider yourself to be a fan of the Star Wars film franchise?                                                                            837 non-null object\n",
      "Which of the following Star Wars films have you seen? Please select all that apply.                                                              674 non-null object\n",
      "Unnamed: 4                                                                                                                                       572 non-null object\n",
      "Unnamed: 5                                                                                                                                       551 non-null object\n",
      "Unnamed: 6                                                                                                                                       608 non-null object\n",
      "Unnamed: 7                                                                                                                                       759 non-null object\n",
      "Unnamed: 8                                                                                                                                       739 non-null object\n",
      "Please rank the Star Wars films in order of preference with 1 being your favorite film in the franchise and 6 being your least favorite film.    836 non-null object\n",
      "Unnamed: 10                                                                                                                                      837 non-null object\n",
      "Unnamed: 11                                                                                                                                      836 non-null object\n",
      "Unnamed: 12                                                                                                                                      837 non-null object\n",
      "Unnamed: 13                                                                                                                                      837 non-null object\n",
      "Unnamed: 14                                                                                                                                      837 non-null object\n",
      "Please state whether you view the following characters favorably, unfavorably, or are unfamiliar with him/her.                                   830 non-null object\n",
      "Unnamed: 16                                                                                                                                      832 non-null object\n",
      "Unnamed: 17                                                                                                                                      832 non-null object\n",
      "Unnamed: 18                                                                                                                                      824 non-null object\n",
      "Unnamed: 19                                                                                                                                      826 non-null object\n",
      "Unnamed: 20                                                                                                                                      815 non-null object\n",
      "Unnamed: 21                                                                                                                                      827 non-null object\n",
      "Unnamed: 22                                                                                                                                      821 non-null object\n",
      "Unnamed: 23                                                                                                                                      813 non-null object\n",
      "Unnamed: 24                                                                                                                                      828 non-null object\n",
      "Unnamed: 25                                                                                                                                      831 non-null object\n",
      "Unnamed: 26                                                                                                                                      822 non-null object\n",
      "Unnamed: 27                                                                                                                                      815 non-null object\n",
      "Unnamed: 28                                                                                                                                      827 non-null object\n",
      "Which character shot first?                                                                                                                      829 non-null object\n",
      "Are you familiar with the Expanded Universe?                                                                                                     829 non-null object\n",
      "Do you consider yourself to be a fan of the Expanded Universe?æ                                                                                 214 non-null object\n",
      "Do you consider yourself to be a fan of the Star Trek franchise?                                                                                 1069 non-null object\n",
      "Gender                                                                                                                                           1047 non-null object\n",
      "Age                                                                                                                                              1047 non-null object\n",
      "Household Income                                                                                                                                 859 non-null object\n",
      "Education                                                                                                                                        1037 non-null object\n",
      "Location (Census Region)                                                                                                                         1044 non-null object\n",
      "dtypes: float64(1), object(37)\n",
      "memory usage: 352.5+ KB\n"
     ]
    }
   ],
   "source": [
    "data.info()"
   ]
  },
  {
   "cell_type": "markdown",
   "metadata": {},
   "source": [
    "From above it looks that most of the columns are unnamed"
   ]
  },
  {
   "cell_type": "markdown",
   "metadata": {},
   "source": [
    "# Cleaning Data"
   ]
  },
  {
   "cell_type": "code",
   "execution_count": 85,
   "metadata": {},
   "outputs": [],
   "source": [
    "#As we can see in Dataset that respondent value is unique, it shouldn't be NaN"
   ]
  },
  {
   "cell_type": "code",
   "execution_count": 86,
   "metadata": {},
   "outputs": [],
   "source": [
    "data = data[pd.notnull(data['RespondentID'])]"
   ]
  },
  {
   "cell_type": "markdown",
   "metadata": {},
   "source": [
    "After removing row without respondent id, moving to next columns:"
   ]
  },
  {
   "cell_type": "markdown",
   "metadata": {},
   "source": [
    "Next two columns contain values YES, NO of string Type, i have convert these into Bolean True/False to avoid string comparison and make it easier for analysis"
   ]
  },
  {
   "cell_type": "code",
   "execution_count": 87,
   "metadata": {},
   "outputs": [
    {
     "data": {
      "text/plain": [
       "Yes    936\n",
       "No     250\n",
       "Name: Have you seen any of the 6 films in the Star Wars franchise?, dtype: int64"
      ]
     },
     "execution_count": 87,
     "metadata": {},
     "output_type": "execute_result"
    }
   ],
   "source": [
    "data[\"Have you seen any of the 6 films in the Star Wars franchise?\"].value_counts()"
   ]
  },
  {
   "cell_type": "code",
   "execution_count": 88,
   "metadata": {},
   "outputs": [
    {
     "data": {
      "text/plain": [
       "Yes    552\n",
       "No     284\n",
       "Name: Do you consider yourself to be a fan of the Star Wars film franchise?, dtype: int64"
      ]
     },
     "execution_count": 88,
     "metadata": {},
     "output_type": "execute_result"
    }
   ],
   "source": [
    "data[\"Do you consider yourself to be a fan of the Star Wars film franchise?\"].value_counts()"
   ]
  },
  {
   "cell_type": "markdown",
   "metadata": {},
   "source": [
    "cleaning and mapping Yes/No columns"
   ]
  },
  {
   "cell_type": "code",
   "execution_count": 89,
   "metadata": {},
   "outputs": [],
   "source": [
    "data['Have you seen any of the 6 films in the Star Wars franchise?']=data['Have you seen any of the 6 films in the Star Wars franchise?'].map({'Yes':True,'No':False}) "
   ]
  },
  {
   "cell_type": "code",
   "execution_count": 90,
   "metadata": {},
   "outputs": [
    {
     "data": {
      "text/plain": [
       "True     936\n",
       "False    250\n",
       "Name: Have you seen any of the 6 films in the Star Wars franchise?, dtype: int64"
      ]
     },
     "execution_count": 90,
     "metadata": {},
     "output_type": "execute_result"
    }
   ],
   "source": [
    "data['Have you seen any of the 6 films in the Star Wars franchise?'].value_counts(dropna = False)"
   ]
  },
  {
   "cell_type": "code",
   "execution_count": 91,
   "metadata": {},
   "outputs": [],
   "source": [
    "data['Do you consider yourself to be a fan of the Star Wars film franchise?']=data['Do you consider yourself to be a fan of the Star Wars film franchise?'].map({'Yes':True,'No':False})"
   ]
  },
  {
   "cell_type": "code",
   "execution_count": 92,
   "metadata": {},
   "outputs": [
    {
     "data": {
      "text/plain": [
       "True     552\n",
       "NaN      350\n",
       "False    284\n",
       "Name: Do you consider yourself to be a fan of the Star Wars film franchise?, dtype: int64"
      ]
     },
     "execution_count": 92,
     "metadata": {},
     "output_type": "execute_result"
    }
   ],
   "source": [
    "\n",
    "data['Do you consider yourself to be a fan of the Star Wars film franchise?'].value_counts(dropna = False)"
   ]
  },
  {
   "cell_type": "markdown",
   "metadata": {},
   "source": [
    "Next six columns represent a single checkbox question, and have string values with the movies respondent saw, we need to convert these value into bolean."
   ]
  },
  {
   "cell_type": "code",
   "execution_count": 93,
   "metadata": {},
   "outputs": [],
   "source": [
    "# Converting the Movie viewing answers to True/False."
   ]
  },
  {
   "cell_type": "code",
   "execution_count": 94,
   "metadata": {},
   "outputs": [],
   "source": [
    "true_false = {\n",
    "  'Star Wars: Episode I  The Phantom Menace': True,\n",
    "  'Star Wars: Episode II  Attack of the Clones': True,\n",
    "  'Star Wars: Episode III  Revenge of the Sith': True,\n",
    "  'Star Wars: Episode IV  A New Hope': True,\n",
    "  'Star Wars: Episode V The Empire Strikes Back': True,\n",
    "  'Star Wars: Episode VI Return of the Jedi': True,\n",
    "  True: True,\n",
    "  False: False,\n",
    "  np.nan: False\n",
    "}\n",
    "for col in data.columns[3:9]:\n",
    "    data[col] = data[col].map(true_false)"
   ]
  },
  {
   "cell_type": "code",
   "execution_count": 95,
   "metadata": {},
   "outputs": [],
   "source": [
    "#Changing the unnamed and long columns names to more intuitive "
   ]
  },
  {
   "cell_type": "code",
   "execution_count": 96,
   "metadata": {},
   "outputs": [],
   "source": [
    "data = data.rename(columns={\n",
    "        \"Which of the following Star Wars films have you seen? Please select all that apply.\": \"episode_1\",\n",
    "        \"Unnamed: 4\": \"episode_2\",\n",
    "        \"Unnamed: 5\": \"episode_3\",\n",
    "        \"Unnamed: 6\": \"episode_4\",\n",
    "        \"Unnamed: 7\": \"episode_5\",\n",
    "        \"Unnamed: 8\": \"episode_6\"\n",
    "        })"
   ]
  },
  {
   "cell_type": "code",
   "execution_count": 97,
   "metadata": {},
   "outputs": [
    {
     "data": {
      "text/html": [
       "<div>\n",
       "<style scoped>\n",
       "    .dataframe tbody tr th:only-of-type {\n",
       "        vertical-align: middle;\n",
       "    }\n",
       "\n",
       "    .dataframe tbody tr th {\n",
       "        vertical-align: top;\n",
       "    }\n",
       "\n",
       "    .dataframe thead th {\n",
       "        text-align: right;\n",
       "    }\n",
       "</style>\n",
       "<table border=\"1\" class=\"dataframe\">\n",
       "  <thead>\n",
       "    <tr style=\"text-align: right;\">\n",
       "      <th></th>\n",
       "      <th>RespondentID</th>\n",
       "      <th>Have you seen any of the 6 films in the Star Wars franchise?</th>\n",
       "      <th>Do you consider yourself to be a fan of the Star Wars film franchise?</th>\n",
       "      <th>episode_1</th>\n",
       "      <th>episode_2</th>\n",
       "      <th>episode_3</th>\n",
       "      <th>episode_4</th>\n",
       "      <th>episode_5</th>\n",
       "      <th>episode_6</th>\n",
       "      <th>Please rank the Star Wars films in order of preference with 1 being your favorite film in the franchise and 6 being your least favorite film.</th>\n",
       "      <th>...</th>\n",
       "      <th>Unnamed: 28</th>\n",
       "      <th>Which character shot first?</th>\n",
       "      <th>Are you familiar with the Expanded Universe?</th>\n",
       "      <th>Do you consider yourself to be a fan of the Expanded Universe?æ</th>\n",
       "      <th>Do you consider yourself to be a fan of the Star Trek franchise?</th>\n",
       "      <th>Gender</th>\n",
       "      <th>Age</th>\n",
       "      <th>Household Income</th>\n",
       "      <th>Education</th>\n",
       "      <th>Location (Census Region)</th>\n",
       "    </tr>\n",
       "  </thead>\n",
       "  <tbody>\n",
       "    <tr>\n",
       "      <th>1</th>\n",
       "      <td>3.292880e+09</td>\n",
       "      <td>True</td>\n",
       "      <td>True</td>\n",
       "      <td>True</td>\n",
       "      <td>True</td>\n",
       "      <td>True</td>\n",
       "      <td>True</td>\n",
       "      <td>True</td>\n",
       "      <td>True</td>\n",
       "      <td>3</td>\n",
       "      <td>...</td>\n",
       "      <td>Very favorably</td>\n",
       "      <td>I don't understand this question</td>\n",
       "      <td>Yes</td>\n",
       "      <td>No</td>\n",
       "      <td>No</td>\n",
       "      <td>Male</td>\n",
       "      <td>18-29</td>\n",
       "      <td>NaN</td>\n",
       "      <td>High school degree</td>\n",
       "      <td>South Atlantic</td>\n",
       "    </tr>\n",
       "    <tr>\n",
       "      <th>2</th>\n",
       "      <td>3.292880e+09</td>\n",
       "      <td>False</td>\n",
       "      <td>NaN</td>\n",
       "      <td>False</td>\n",
       "      <td>False</td>\n",
       "      <td>False</td>\n",
       "      <td>False</td>\n",
       "      <td>False</td>\n",
       "      <td>False</td>\n",
       "      <td>NaN</td>\n",
       "      <td>...</td>\n",
       "      <td>NaN</td>\n",
       "      <td>NaN</td>\n",
       "      <td>NaN</td>\n",
       "      <td>NaN</td>\n",
       "      <td>Yes</td>\n",
       "      <td>Male</td>\n",
       "      <td>18-29</td>\n",
       "      <td>$0 - $24,999</td>\n",
       "      <td>Bachelor degree</td>\n",
       "      <td>West South Central</td>\n",
       "    </tr>\n",
       "    <tr>\n",
       "      <th>3</th>\n",
       "      <td>3.292765e+09</td>\n",
       "      <td>True</td>\n",
       "      <td>False</td>\n",
       "      <td>True</td>\n",
       "      <td>True</td>\n",
       "      <td>True</td>\n",
       "      <td>False</td>\n",
       "      <td>False</td>\n",
       "      <td>False</td>\n",
       "      <td>1</td>\n",
       "      <td>...</td>\n",
       "      <td>Unfamiliar (N/A)</td>\n",
       "      <td>I don't understand this question</td>\n",
       "      <td>No</td>\n",
       "      <td>NaN</td>\n",
       "      <td>No</td>\n",
       "      <td>Male</td>\n",
       "      <td>18-29</td>\n",
       "      <td>$0 - $24,999</td>\n",
       "      <td>High school degree</td>\n",
       "      <td>West North Central</td>\n",
       "    </tr>\n",
       "    <tr>\n",
       "      <th>4</th>\n",
       "      <td>3.292763e+09</td>\n",
       "      <td>True</td>\n",
       "      <td>True</td>\n",
       "      <td>True</td>\n",
       "      <td>True</td>\n",
       "      <td>True</td>\n",
       "      <td>True</td>\n",
       "      <td>True</td>\n",
       "      <td>True</td>\n",
       "      <td>5</td>\n",
       "      <td>...</td>\n",
       "      <td>Very favorably</td>\n",
       "      <td>I don't understand this question</td>\n",
       "      <td>No</td>\n",
       "      <td>NaN</td>\n",
       "      <td>Yes</td>\n",
       "      <td>Male</td>\n",
       "      <td>18-29</td>\n",
       "      <td>$100,000 - $149,999</td>\n",
       "      <td>Some college or Associate degree</td>\n",
       "      <td>West North Central</td>\n",
       "    </tr>\n",
       "    <tr>\n",
       "      <th>5</th>\n",
       "      <td>3.292731e+09</td>\n",
       "      <td>True</td>\n",
       "      <td>True</td>\n",
       "      <td>True</td>\n",
       "      <td>True</td>\n",
       "      <td>True</td>\n",
       "      <td>True</td>\n",
       "      <td>True</td>\n",
       "      <td>True</td>\n",
       "      <td>5</td>\n",
       "      <td>...</td>\n",
       "      <td>Somewhat favorably</td>\n",
       "      <td>Greedo</td>\n",
       "      <td>Yes</td>\n",
       "      <td>No</td>\n",
       "      <td>No</td>\n",
       "      <td>Male</td>\n",
       "      <td>18-29</td>\n",
       "      <td>$100,000 - $149,999</td>\n",
       "      <td>Some college or Associate degree</td>\n",
       "      <td>West North Central</td>\n",
       "    </tr>\n",
       "  </tbody>\n",
       "</table>\n",
       "<p>5 rows × 38 columns</p>\n",
       "</div>"
      ],
      "text/plain": [
       "   RespondentID  Have you seen any of the 6 films in the Star Wars franchise?  \\\n",
       "1  3.292880e+09                                               True              \n",
       "2  3.292880e+09                                              False              \n",
       "3  3.292765e+09                                               True              \n",
       "4  3.292763e+09                                               True              \n",
       "5  3.292731e+09                                               True              \n",
       "\n",
       "  Do you consider yourself to be a fan of the Star Wars film franchise?  \\\n",
       "1                                               True                      \n",
       "2                                                NaN                      \n",
       "3                                              False                      \n",
       "4                                               True                      \n",
       "5                                               True                      \n",
       "\n",
       "   episode_1  episode_2  episode_3  episode_4  episode_5  episode_6  \\\n",
       "1       True       True       True       True       True       True   \n",
       "2      False      False      False      False      False      False   \n",
       "3       True       True       True      False      False      False   \n",
       "4       True       True       True       True       True       True   \n",
       "5       True       True       True       True       True       True   \n",
       "\n",
       "  Please rank the Star Wars films in order of preference with 1 being your favorite film in the franchise and 6 being your least favorite film.  \\\n",
       "1                                                  3                                                                                              \n",
       "2                                                NaN                                                                                              \n",
       "3                                                  1                                                                                              \n",
       "4                                                  5                                                                                              \n",
       "5                                                  5                                                                                              \n",
       "\n",
       "            ...                    Unnamed: 28  \\\n",
       "1           ...                 Very favorably   \n",
       "2           ...                            NaN   \n",
       "3           ...               Unfamiliar (N/A)   \n",
       "4           ...                 Very favorably   \n",
       "5           ...             Somewhat favorably   \n",
       "\n",
       "        Which character shot first?  \\\n",
       "1  I don't understand this question   \n",
       "2                               NaN   \n",
       "3  I don't understand this question   \n",
       "4  I don't understand this question   \n",
       "5                            Greedo   \n",
       "\n",
       "  Are you familiar with the Expanded Universe?  \\\n",
       "1                                          Yes   \n",
       "2                                          NaN   \n",
       "3                                           No   \n",
       "4                                           No   \n",
       "5                                          Yes   \n",
       "\n",
       "  Do you consider yourself to be a fan of the Expanded Universe?æ  \\\n",
       "1                                                 No                 \n",
       "2                                                NaN                 \n",
       "3                                                NaN                 \n",
       "4                                                NaN                 \n",
       "5                                                 No                 \n",
       "\n",
       "  Do you consider yourself to be a fan of the Star Trek franchise? Gender  \\\n",
       "1                                                 No                 Male   \n",
       "2                                                Yes                 Male   \n",
       "3                                                 No                 Male   \n",
       "4                                                Yes                 Male   \n",
       "5                                                 No                 Male   \n",
       "\n",
       "     Age     Household Income                         Education  \\\n",
       "1  18-29                  NaN                High school degree   \n",
       "2  18-29         $0 - $24,999                   Bachelor degree   \n",
       "3  18-29         $0 - $24,999                High school degree   \n",
       "4  18-29  $100,000 - $149,999  Some college or Associate degree   \n",
       "5  18-29  $100,000 - $149,999  Some college or Associate degree   \n",
       "\n",
       "  Location (Census Region)  \n",
       "1           South Atlantic  \n",
       "2       West South Central  \n",
       "3       West North Central  \n",
       "4       West North Central  \n",
       "5       West North Central  \n",
       "\n",
       "[5 rows x 38 columns]"
      ]
     },
     "execution_count": 97,
     "metadata": {},
     "output_type": "execute_result"
    }
   ],
   "source": [
    "data.head()"
   ]
  },
  {
   "cell_type": "markdown",
   "metadata": {},
   "source": [
    "Next six columns ask the respondents to rank the Star Wars movies in order of least favorite to most favorite. 1 means the film was the most favorite and 6 means it was the least favorite."
   ]
  },
  {
   "cell_type": "code",
   "execution_count": 98,
   "metadata": {},
   "outputs": [],
   "source": [
    "#converting the ranking columns types and renaming \n",
    "data.iloc[:,9:15] = data.iloc[:,9:15].astype(float)"
   ]
  },
  {
   "cell_type": "code",
   "execution_count": 99,
   "metadata": {},
   "outputs": [],
   "source": [
    "data = data.rename(columns = {'Please rank the Star Wars films in order of preference with 1 being your favorite film in the franchise and 6 being your least favorite film.':'Rank_1',\n",
    "                                        'Unnamed: 10':'Rank_2',\n",
    "                                         'Unnamed: 11':'Rank_3',\n",
    "                                         'Unnamed: 12':'Rank_4',\n",
    "                                         'Unnamed: 13': 'Rank_5',\n",
    "                                         'Unnamed: 14':'Rank_6'})"
   ]
  },
  {
   "cell_type": "code",
   "execution_count": 100,
   "metadata": {},
   "outputs": [
    {
     "data": {
      "text/html": [
       "<div>\n",
       "<style scoped>\n",
       "    .dataframe tbody tr th:only-of-type {\n",
       "        vertical-align: middle;\n",
       "    }\n",
       "\n",
       "    .dataframe tbody tr th {\n",
       "        vertical-align: top;\n",
       "    }\n",
       "\n",
       "    .dataframe thead th {\n",
       "        text-align: right;\n",
       "    }\n",
       "</style>\n",
       "<table border=\"1\" class=\"dataframe\">\n",
       "  <thead>\n",
       "    <tr style=\"text-align: right;\">\n",
       "      <th></th>\n",
       "      <th>Rank_1</th>\n",
       "      <th>Rank_2</th>\n",
       "      <th>Rank_3</th>\n",
       "      <th>Rank_4</th>\n",
       "      <th>Rank_5</th>\n",
       "      <th>Rank_6</th>\n",
       "    </tr>\n",
       "  </thead>\n",
       "  <tbody>\n",
       "    <tr>\n",
       "      <th>1</th>\n",
       "      <td>3.0</td>\n",
       "      <td>2.0</td>\n",
       "      <td>1.0</td>\n",
       "      <td>4.0</td>\n",
       "      <td>5.0</td>\n",
       "      <td>6.0</td>\n",
       "    </tr>\n",
       "    <tr>\n",
       "      <th>2</th>\n",
       "      <td>NaN</td>\n",
       "      <td>NaN</td>\n",
       "      <td>NaN</td>\n",
       "      <td>NaN</td>\n",
       "      <td>NaN</td>\n",
       "      <td>NaN</td>\n",
       "    </tr>\n",
       "    <tr>\n",
       "      <th>3</th>\n",
       "      <td>1.0</td>\n",
       "      <td>2.0</td>\n",
       "      <td>3.0</td>\n",
       "      <td>4.0</td>\n",
       "      <td>5.0</td>\n",
       "      <td>6.0</td>\n",
       "    </tr>\n",
       "    <tr>\n",
       "      <th>4</th>\n",
       "      <td>5.0</td>\n",
       "      <td>6.0</td>\n",
       "      <td>1.0</td>\n",
       "      <td>2.0</td>\n",
       "      <td>4.0</td>\n",
       "      <td>3.0</td>\n",
       "    </tr>\n",
       "    <tr>\n",
       "      <th>5</th>\n",
       "      <td>5.0</td>\n",
       "      <td>4.0</td>\n",
       "      <td>6.0</td>\n",
       "      <td>2.0</td>\n",
       "      <td>1.0</td>\n",
       "      <td>3.0</td>\n",
       "    </tr>\n",
       "  </tbody>\n",
       "</table>\n",
       "</div>"
      ],
      "text/plain": [
       "   Rank_1  Rank_2  Rank_3  Rank_4  Rank_5  Rank_6\n",
       "1     3.0     2.0     1.0     4.0     5.0     6.0\n",
       "2     NaN     NaN     NaN     NaN     NaN     NaN\n",
       "3     1.0     2.0     3.0     4.0     5.0     6.0\n",
       "4     5.0     6.0     1.0     2.0     4.0     3.0\n",
       "5     5.0     4.0     6.0     2.0     1.0     3.0"
      ]
     },
     "execution_count": 100,
     "metadata": {},
     "output_type": "execute_result"
    }
   ],
   "source": [
    "data.iloc[:,9:15].head()"
   ]
  },
  {
   "cell_type": "code",
   "execution_count": 101,
   "metadata": {},
   "outputs": [
    {
     "data": {
      "text/plain": [
       "Rank_1    3.732934\n",
       "Rank_2    4.087321\n",
       "Rank_3    4.341317\n",
       "Rank_4    3.272727\n",
       "Rank_5    2.513158\n",
       "Rank_6    3.047847\n",
       "dtype: float64"
      ]
     },
     "execution_count": 101,
     "metadata": {},
     "output_type": "execute_result"
    }
   ],
   "source": [
    "#mean Rankings of each Star Wars movie\n",
    "data[data.columns[9:15]].mean()"
   ]
  },
  {
   "cell_type": "markdown",
   "metadata": {},
   "source": [
    "## Exploratory Analysis & Visualization"
   ]
  },
  {
   "cell_type": "code",
   "execution_count": 102,
   "metadata": {},
   "outputs": [
    {
     "data": {
      "text/html": [
       "\n",
       "    <div class=\"bk-root\">\n",
       "        <a href=\"https://bokeh.pydata.org\" target=\"_blank\" class=\"bk-logo bk-logo-small bk-logo-notebook\"></a>\n",
       "        <span id=\"be97240e-ad7a-4a60-87fa-b9fca278d049\">Loading BokehJS ...</span>\n",
       "    </div>"
      ]
     },
     "metadata": {},
     "output_type": "display_data"
    },
    {
     "data": {
      "application/javascript": [
       "\n",
       "(function(root) {\n",
       "  function now() {\n",
       "    return new Date();\n",
       "  }\n",
       "\n",
       "  var force = true;\n",
       "\n",
       "  if (typeof (root._bokeh_onload_callbacks) === \"undefined\" || force === true) {\n",
       "    root._bokeh_onload_callbacks = [];\n",
       "    root._bokeh_is_loading = undefined;\n",
       "  }\n",
       "\n",
       "  var JS_MIME_TYPE = 'application/javascript';\n",
       "  var HTML_MIME_TYPE = 'text/html';\n",
       "  var EXEC_MIME_TYPE = 'application/vnd.bokehjs_exec.v0+json';\n",
       "  var CLASS_NAME = 'output_bokeh rendered_html';\n",
       "\n",
       "  /**\n",
       "   * Render data to the DOM node\n",
       "   */\n",
       "  function render(props, node) {\n",
       "    var script = document.createElement(\"script\");\n",
       "    node.appendChild(script);\n",
       "  }\n",
       "\n",
       "  /**\n",
       "   * Handle when an output is cleared or removed\n",
       "   */\n",
       "  function handleClearOutput(event, handle) {\n",
       "    var cell = handle.cell;\n",
       "\n",
       "    var id = cell.output_area._bokeh_element_id;\n",
       "    var server_id = cell.output_area._bokeh_server_id;\n",
       "    // Clean up Bokeh references\n",
       "    if (id != null && id in Bokeh.index) {\n",
       "      Bokeh.index[id].model.document.clear();\n",
       "      delete Bokeh.index[id];\n",
       "    }\n",
       "\n",
       "    if (server_id !== undefined) {\n",
       "      // Clean up Bokeh references\n",
       "      var cmd = \"from bokeh.io.state import curstate; print(curstate().uuid_to_server['\" + server_id + \"'].get_sessions()[0].document.roots[0]._id)\";\n",
       "      cell.notebook.kernel.execute(cmd, {\n",
       "        iopub: {\n",
       "          output: function(msg) {\n",
       "            var id = msg.content.text.trim();\n",
       "            if (id in Bokeh.index) {\n",
       "              Bokeh.index[id].model.document.clear();\n",
       "              delete Bokeh.index[id];\n",
       "            }\n",
       "          }\n",
       "        }\n",
       "      });\n",
       "      // Destroy server and session\n",
       "      var cmd = \"import bokeh.io.notebook as ion; ion.destroy_server('\" + server_id + \"')\";\n",
       "      cell.notebook.kernel.execute(cmd);\n",
       "    }\n",
       "  }\n",
       "\n",
       "  /**\n",
       "   * Handle when a new output is added\n",
       "   */\n",
       "  function handleAddOutput(event, handle) {\n",
       "    var output_area = handle.output_area;\n",
       "    var output = handle.output;\n",
       "\n",
       "    // limit handleAddOutput to display_data with EXEC_MIME_TYPE content only\n",
       "    if ((output.output_type != \"display_data\") || (!output.data.hasOwnProperty(EXEC_MIME_TYPE))) {\n",
       "      return\n",
       "    }\n",
       "\n",
       "    var toinsert = output_area.element.find(\".\" + CLASS_NAME.split(' ')[0]);\n",
       "\n",
       "    if (output.metadata[EXEC_MIME_TYPE][\"id\"] !== undefined) {\n",
       "      toinsert[toinsert.length - 1].firstChild.textContent = output.data[JS_MIME_TYPE];\n",
       "      // store reference to embed id on output_area\n",
       "      output_area._bokeh_element_id = output.metadata[EXEC_MIME_TYPE][\"id\"];\n",
       "    }\n",
       "    if (output.metadata[EXEC_MIME_TYPE][\"server_id\"] !== undefined) {\n",
       "      var bk_div = document.createElement(\"div\");\n",
       "      bk_div.innerHTML = output.data[HTML_MIME_TYPE];\n",
       "      var script_attrs = bk_div.children[0].attributes;\n",
       "      for (var i = 0; i < script_attrs.length; i++) {\n",
       "        toinsert[toinsert.length - 1].firstChild.setAttribute(script_attrs[i].name, script_attrs[i].value);\n",
       "      }\n",
       "      // store reference to server id on output_area\n",
       "      output_area._bokeh_server_id = output.metadata[EXEC_MIME_TYPE][\"server_id\"];\n",
       "    }\n",
       "  }\n",
       "\n",
       "  function register_renderer(events, OutputArea) {\n",
       "\n",
       "    function append_mime(data, metadata, element) {\n",
       "      // create a DOM node to render to\n",
       "      var toinsert = this.create_output_subarea(\n",
       "        metadata,\n",
       "        CLASS_NAME,\n",
       "        EXEC_MIME_TYPE\n",
       "      );\n",
       "      this.keyboard_manager.register_events(toinsert);\n",
       "      // Render to node\n",
       "      var props = {data: data, metadata: metadata[EXEC_MIME_TYPE]};\n",
       "      render(props, toinsert[toinsert.length - 1]);\n",
       "      element.append(toinsert);\n",
       "      return toinsert\n",
       "    }\n",
       "\n",
       "    /* Handle when an output is cleared or removed */\n",
       "    events.on('clear_output.CodeCell', handleClearOutput);\n",
       "    events.on('delete.Cell', handleClearOutput);\n",
       "\n",
       "    /* Handle when a new output is added */\n",
       "    events.on('output_added.OutputArea', handleAddOutput);\n",
       "\n",
       "    /**\n",
       "     * Register the mime type and append_mime function with output_area\n",
       "     */\n",
       "    OutputArea.prototype.register_mime_type(EXEC_MIME_TYPE, append_mime, {\n",
       "      /* Is output safe? */\n",
       "      safe: true,\n",
       "      /* Index of renderer in `output_area.display_order` */\n",
       "      index: 0\n",
       "    });\n",
       "  }\n",
       "\n",
       "  // register the mime type if in Jupyter Notebook environment and previously unregistered\n",
       "  if (root.Jupyter !== undefined) {\n",
       "    var events = require('base/js/events');\n",
       "    var OutputArea = require('notebook/js/outputarea').OutputArea;\n",
       "\n",
       "    if (OutputArea.prototype.mime_types().indexOf(EXEC_MIME_TYPE) == -1) {\n",
       "      register_renderer(events, OutputArea);\n",
       "    }\n",
       "  }\n",
       "\n",
       "  \n",
       "  if (typeof (root._bokeh_timeout) === \"undefined\" || force === true) {\n",
       "    root._bokeh_timeout = Date.now() + 5000;\n",
       "    root._bokeh_failed_load = false;\n",
       "  }\n",
       "\n",
       "  var NB_LOAD_WARNING = {'data': {'text/html':\n",
       "     \"<div style='background-color: #fdd'>\\n\"+\n",
       "     \"<p>\\n\"+\n",
       "     \"BokehJS does not appear to have successfully loaded. If loading BokehJS from CDN, this \\n\"+\n",
       "     \"may be due to a slow or bad network connection. Possible fixes:\\n\"+\n",
       "     \"</p>\\n\"+\n",
       "     \"<ul>\\n\"+\n",
       "     \"<li>re-rerun `output_notebook()` to attempt to load from CDN again, or</li>\\n\"+\n",
       "     \"<li>use INLINE resources instead, as so:</li>\\n\"+\n",
       "     \"</ul>\\n\"+\n",
       "     \"<code>\\n\"+\n",
       "     \"from bokeh.resources import INLINE\\n\"+\n",
       "     \"output_notebook(resources=INLINE)\\n\"+\n",
       "     \"</code>\\n\"+\n",
       "     \"</div>\"}};\n",
       "\n",
       "  function display_loaded() {\n",
       "    var el = document.getElementById(\"be97240e-ad7a-4a60-87fa-b9fca278d049\");\n",
       "    if (el != null) {\n",
       "      el.textContent = \"BokehJS is loading...\";\n",
       "    }\n",
       "    if (root.Bokeh !== undefined) {\n",
       "      if (el != null) {\n",
       "        el.textContent = \"BokehJS \" + root.Bokeh.version + \" successfully loaded.\";\n",
       "      }\n",
       "    } else if (Date.now() < root._bokeh_timeout) {\n",
       "      setTimeout(display_loaded, 100)\n",
       "    }\n",
       "  }\n",
       "\n",
       "\n",
       "  function run_callbacks() {\n",
       "    try {\n",
       "      root._bokeh_onload_callbacks.forEach(function(callback) { callback() });\n",
       "    }\n",
       "    finally {\n",
       "      delete root._bokeh_onload_callbacks\n",
       "    }\n",
       "    console.info(\"Bokeh: all callbacks have finished\");\n",
       "  }\n",
       "\n",
       "  function load_libs(js_urls, callback) {\n",
       "    root._bokeh_onload_callbacks.push(callback);\n",
       "    if (root._bokeh_is_loading > 0) {\n",
       "      console.log(\"Bokeh: BokehJS is being loaded, scheduling callback at\", now());\n",
       "      return null;\n",
       "    }\n",
       "    if (js_urls == null || js_urls.length === 0) {\n",
       "      run_callbacks();\n",
       "      return null;\n",
       "    }\n",
       "    console.log(\"Bokeh: BokehJS not loaded, scheduling load and callback at\", now());\n",
       "    root._bokeh_is_loading = js_urls.length;\n",
       "    for (var i = 0; i < js_urls.length; i++) {\n",
       "      var url = js_urls[i];\n",
       "      var s = document.createElement('script');\n",
       "      s.src = url;\n",
       "      s.async = false;\n",
       "      s.onreadystatechange = s.onload = function() {\n",
       "        root._bokeh_is_loading--;\n",
       "        if (root._bokeh_is_loading === 0) {\n",
       "          console.log(\"Bokeh: all BokehJS libraries loaded\");\n",
       "          run_callbacks()\n",
       "        }\n",
       "      };\n",
       "      s.onerror = function() {\n",
       "        console.warn(\"failed to load library \" + url);\n",
       "      };\n",
       "      console.log(\"Bokeh: injecting script tag for BokehJS library: \", url);\n",
       "      document.getElementsByTagName(\"head\")[0].appendChild(s);\n",
       "    }\n",
       "  };var element = document.getElementById(\"be97240e-ad7a-4a60-87fa-b9fca278d049\");\n",
       "  if (element == null) {\n",
       "    console.log(\"Bokeh: ERROR: autoload.js configured with elementid 'be97240e-ad7a-4a60-87fa-b9fca278d049' but no matching script tag was found. \")\n",
       "    return false;\n",
       "  }\n",
       "\n",
       "  var js_urls = [\"https://cdn.pydata.org/bokeh/release/bokeh-0.13.0.min.js\", \"https://cdn.pydata.org/bokeh/release/bokeh-widgets-0.13.0.min.js\", \"https://cdn.pydata.org/bokeh/release/bokeh-tables-0.13.0.min.js\", \"https://cdn.pydata.org/bokeh/release/bokeh-gl-0.13.0.min.js\"];\n",
       "\n",
       "  var inline_js = [\n",
       "    function(Bokeh) {\n",
       "      Bokeh.set_log_level(\"info\");\n",
       "    },\n",
       "    \n",
       "    function(Bokeh) {\n",
       "      \n",
       "    },\n",
       "    function(Bokeh) {\n",
       "      console.log(\"Bokeh: injecting CSS: https://cdn.pydata.org/bokeh/release/bokeh-0.13.0.min.css\");\n",
       "      Bokeh.embed.inject_css(\"https://cdn.pydata.org/bokeh/release/bokeh-0.13.0.min.css\");\n",
       "      console.log(\"Bokeh: injecting CSS: https://cdn.pydata.org/bokeh/release/bokeh-widgets-0.13.0.min.css\");\n",
       "      Bokeh.embed.inject_css(\"https://cdn.pydata.org/bokeh/release/bokeh-widgets-0.13.0.min.css\");\n",
       "      console.log(\"Bokeh: injecting CSS: https://cdn.pydata.org/bokeh/release/bokeh-tables-0.13.0.min.css\");\n",
       "      Bokeh.embed.inject_css(\"https://cdn.pydata.org/bokeh/release/bokeh-tables-0.13.0.min.css\");\n",
       "    }\n",
       "  ];\n",
       "\n",
       "  function run_inline_js() {\n",
       "    \n",
       "    if ((root.Bokeh !== undefined) || (force === true)) {\n",
       "      for (var i = 0; i < inline_js.length; i++) {\n",
       "        inline_js[i].call(root, root.Bokeh);\n",
       "      }if (force === true) {\n",
       "        display_loaded();\n",
       "      }} else if (Date.now() < root._bokeh_timeout) {\n",
       "      setTimeout(run_inline_js, 100);\n",
       "    } else if (!root._bokeh_failed_load) {\n",
       "      console.log(\"Bokeh: BokehJS failed to load within specified timeout.\");\n",
       "      root._bokeh_failed_load = true;\n",
       "    } else if (force !== true) {\n",
       "      var cell = $(document.getElementById(\"be97240e-ad7a-4a60-87fa-b9fca278d049\")).parents('.cell').data().cell;\n",
       "      cell.output_area.append_execute_result(NB_LOAD_WARNING)\n",
       "    }\n",
       "\n",
       "  }\n",
       "\n",
       "  if (root._bokeh_is_loading === 0) {\n",
       "    console.log(\"Bokeh: BokehJS loaded, going straight to plotting\");\n",
       "    run_inline_js();\n",
       "  } else {\n",
       "    load_libs(js_urls, function() {\n",
       "      console.log(\"Bokeh: BokehJS plotting callback run at\", now());\n",
       "      run_inline_js();\n",
       "    });\n",
       "  }\n",
       "}(window));"
      ],
      "application/vnd.bokehjs_load.v0+json": "\n(function(root) {\n  function now() {\n    return new Date();\n  }\n\n  var force = true;\n\n  if (typeof (root._bokeh_onload_callbacks) === \"undefined\" || force === true) {\n    root._bokeh_onload_callbacks = [];\n    root._bokeh_is_loading = undefined;\n  }\n\n  \n\n  \n  if (typeof (root._bokeh_timeout) === \"undefined\" || force === true) {\n    root._bokeh_timeout = Date.now() + 5000;\n    root._bokeh_failed_load = false;\n  }\n\n  var NB_LOAD_WARNING = {'data': {'text/html':\n     \"<div style='background-color: #fdd'>\\n\"+\n     \"<p>\\n\"+\n     \"BokehJS does not appear to have successfully loaded. If loading BokehJS from CDN, this \\n\"+\n     \"may be due to a slow or bad network connection. Possible fixes:\\n\"+\n     \"</p>\\n\"+\n     \"<ul>\\n\"+\n     \"<li>re-rerun `output_notebook()` to attempt to load from CDN again, or</li>\\n\"+\n     \"<li>use INLINE resources instead, as so:</li>\\n\"+\n     \"</ul>\\n\"+\n     \"<code>\\n\"+\n     \"from bokeh.resources import INLINE\\n\"+\n     \"output_notebook(resources=INLINE)\\n\"+\n     \"</code>\\n\"+\n     \"</div>\"}};\n\n  function display_loaded() {\n    var el = document.getElementById(\"be97240e-ad7a-4a60-87fa-b9fca278d049\");\n    if (el != null) {\n      el.textContent = \"BokehJS is loading...\";\n    }\n    if (root.Bokeh !== undefined) {\n      if (el != null) {\n        el.textContent = \"BokehJS \" + root.Bokeh.version + \" successfully loaded.\";\n      }\n    } else if (Date.now() < root._bokeh_timeout) {\n      setTimeout(display_loaded, 100)\n    }\n  }\n\n\n  function run_callbacks() {\n    try {\n      root._bokeh_onload_callbacks.forEach(function(callback) { callback() });\n    }\n    finally {\n      delete root._bokeh_onload_callbacks\n    }\n    console.info(\"Bokeh: all callbacks have finished\");\n  }\n\n  function load_libs(js_urls, callback) {\n    root._bokeh_onload_callbacks.push(callback);\n    if (root._bokeh_is_loading > 0) {\n      console.log(\"Bokeh: BokehJS is being loaded, scheduling callback at\", now());\n      return null;\n    }\n    if (js_urls == null || js_urls.length === 0) {\n      run_callbacks();\n      return null;\n    }\n    console.log(\"Bokeh: BokehJS not loaded, scheduling load and callback at\", now());\n    root._bokeh_is_loading = js_urls.length;\n    for (var i = 0; i < js_urls.length; i++) {\n      var url = js_urls[i];\n      var s = document.createElement('script');\n      s.src = url;\n      s.async = false;\n      s.onreadystatechange = s.onload = function() {\n        root._bokeh_is_loading--;\n        if (root._bokeh_is_loading === 0) {\n          console.log(\"Bokeh: all BokehJS libraries loaded\");\n          run_callbacks()\n        }\n      };\n      s.onerror = function() {\n        console.warn(\"failed to load library \" + url);\n      };\n      console.log(\"Bokeh: injecting script tag for BokehJS library: \", url);\n      document.getElementsByTagName(\"head\")[0].appendChild(s);\n    }\n  };var element = document.getElementById(\"be97240e-ad7a-4a60-87fa-b9fca278d049\");\n  if (element == null) {\n    console.log(\"Bokeh: ERROR: autoload.js configured with elementid 'be97240e-ad7a-4a60-87fa-b9fca278d049' but no matching script tag was found. \")\n    return false;\n  }\n\n  var js_urls = [\"https://cdn.pydata.org/bokeh/release/bokeh-0.13.0.min.js\", \"https://cdn.pydata.org/bokeh/release/bokeh-widgets-0.13.0.min.js\", \"https://cdn.pydata.org/bokeh/release/bokeh-tables-0.13.0.min.js\", \"https://cdn.pydata.org/bokeh/release/bokeh-gl-0.13.0.min.js\"];\n\n  var inline_js = [\n    function(Bokeh) {\n      Bokeh.set_log_level(\"info\");\n    },\n    \n    function(Bokeh) {\n      \n    },\n    function(Bokeh) {\n      console.log(\"Bokeh: injecting CSS: https://cdn.pydata.org/bokeh/release/bokeh-0.13.0.min.css\");\n      Bokeh.embed.inject_css(\"https://cdn.pydata.org/bokeh/release/bokeh-0.13.0.min.css\");\n      console.log(\"Bokeh: injecting CSS: https://cdn.pydata.org/bokeh/release/bokeh-widgets-0.13.0.min.css\");\n      Bokeh.embed.inject_css(\"https://cdn.pydata.org/bokeh/release/bokeh-widgets-0.13.0.min.css\");\n      console.log(\"Bokeh: injecting CSS: https://cdn.pydata.org/bokeh/release/bokeh-tables-0.13.0.min.css\");\n      Bokeh.embed.inject_css(\"https://cdn.pydata.org/bokeh/release/bokeh-tables-0.13.0.min.css\");\n    }\n  ];\n\n  function run_inline_js() {\n    \n    if ((root.Bokeh !== undefined) || (force === true)) {\n      for (var i = 0; i < inline_js.length; i++) {\n        inline_js[i].call(root, root.Bokeh);\n      }if (force === true) {\n        display_loaded();\n      }} else if (Date.now() < root._bokeh_timeout) {\n      setTimeout(run_inline_js, 100);\n    } else if (!root._bokeh_failed_load) {\n      console.log(\"Bokeh: BokehJS failed to load within specified timeout.\");\n      root._bokeh_failed_load = true;\n    } else if (force !== true) {\n      var cell = $(document.getElementById(\"be97240e-ad7a-4a60-87fa-b9fca278d049\")).parents('.cell').data().cell;\n      cell.output_area.append_execute_result(NB_LOAD_WARNING)\n    }\n\n  }\n\n  if (root._bokeh_is_loading === 0) {\n    console.log(\"Bokeh: BokehJS loaded, going straight to plotting\");\n    run_inline_js();\n  } else {\n    load_libs(js_urls, function() {\n      console.log(\"Bokeh: BokehJS plotting callback run at\", now());\n      run_inline_js();\n    });\n  }\n}(window));"
     },
     "metadata": {},
     "output_type": "display_data"
    }
   ],
   "source": [
    "output_notebook()"
   ]
  },
  {
   "cell_type": "markdown",
   "metadata": {},
   "source": [
    "## Highest Ranked Movie"
   ]
  },
  {
   "cell_type": "code",
   "execution_count": 103,
   "metadata": {},
   "outputs": [
    {
     "data": {
      "text/html": [
       "\n",
       "\n",
       "\n",
       "\n",
       "\n",
       "\n",
       "  <div class=\"bk-root\" id=\"9ab1729b-de49-4f32-8c1c-5c0793bc01af\"></div>\n"
      ]
     },
     "metadata": {},
     "output_type": "display_data"
    },
    {
     "data": {
      "application/javascript": [
       "(function(root) {\n",
       "  function embed_document(root) {\n",
       "    \n",
       "  var docs_json = {\"f7657c4b-951f-4d2d-8a98-fda3c473269c\":{\"roots\":{\"references\":[{\"attributes\":{\"below\":[{\"id\":\"8012c52c-8d94-4eaa-ad3e-33ddfb9e91ef\",\"type\":\"LinearAxis\"}],\"left\":[{\"id\":\"1f147d8c-7ce5-4d85-8331-2c8ea4b826fc\",\"type\":\"LinearAxis\"}],\"plot_height\":350,\"renderers\":[{\"id\":\"8012c52c-8d94-4eaa-ad3e-33ddfb9e91ef\",\"type\":\"LinearAxis\"},{\"id\":\"f7cc0eda-3ba6-43b8-966d-f515d1665f75\",\"type\":\"Grid\"},{\"id\":\"1f147d8c-7ce5-4d85-8331-2c8ea4b826fc\",\"type\":\"LinearAxis\"},{\"id\":\"29230400-79f2-49ab-be0c-9cab9a4de083\",\"type\":\"Grid\"},{\"id\":\"621a3c72-0ba4-45e4-91fe-0f99d70f55b8\",\"type\":\"GlyphRenderer\"}],\"title\":{\"id\":\"993e1c7f-1fc4-4373-9cf7-5c106af740df\",\"type\":\"Title\"},\"toolbar\":{\"id\":\"1a4450c8-36f7-4a7a-9d7a-aa78bdb4ef5b\",\"type\":\"Toolbar\"},\"toolbar_location\":null,\"x_range\":{\"id\":\"5bb9cc17-f2ab-4f52-ba42-1c94deea609a\",\"type\":\"DataRange1d\"},\"x_scale\":{\"id\":\"9ceeef40-7ffc-4256-8f29-92478e50951d\",\"type\":\"LinearScale\"},\"y_range\":{\"id\":\"3967044f-eb21-4524-92ad-8d6ac20e47b7\",\"type\":\"DataRange1d\"},\"y_scale\":{\"id\":\"26a9da17-8f2e-4a18-a5ce-9fb13c4b0f3b\",\"type\":\"LinearScale\"}},\"id\":\"ccd0bd86-a916-4065-988f-447328c30446\",\"subtype\":\"Figure\",\"type\":\"Plot\"},{\"attributes\":{\"formatter\":{\"id\":\"11b6336e-6569-4473-a253-3b44dba083a1\",\"type\":\"BasicTickFormatter\"},\"major_label_overrides\":{\"1\":\"Ep 1\",\"2\":\"Ep 2\",\"3\":\"Ep 3\",\"4\":\"Ep 4\",\"5\":\"Ep 5\",\"6\":\"Ep 6\"},\"plot\":{\"id\":\"ccd0bd86-a916-4065-988f-447328c30446\",\"subtype\":\"Figure\",\"type\":\"Plot\"},\"ticker\":{\"id\":\"8cc7dbff-c8b3-433c-812a-c63fe2c58e0d\",\"type\":\"BasicTicker\"}},\"id\":\"8012c52c-8d94-4eaa-ad3e-33ddfb9e91ef\",\"type\":\"LinearAxis\"},{\"attributes\":{\"fill_alpha\":{\"value\":0.1},\"fill_color\":{\"value\":\"#1f77b4\"},\"line_alpha\":{\"value\":0.1},\"line_color\":{\"value\":\"#1f77b4\"},\"top\":{\"field\":\"top\"},\"width\":{\"value\":0.8},\"x\":{\"field\":\"x\"}},\"id\":\"6b9aee3f-abd8-4251-8662-95d3c341f932\",\"type\":\"VBar\"},{\"attributes\":{},\"id\":\"c60fe3dc-fa92-4486-a053-ab92787c051f\",\"type\":\"BasicTickFormatter\"},{\"attributes\":{\"plot\":{\"id\":\"ccd0bd86-a916-4065-988f-447328c30446\",\"subtype\":\"Figure\",\"type\":\"Plot\"},\"ticker\":{\"id\":\"8cc7dbff-c8b3-433c-812a-c63fe2c58e0d\",\"type\":\"BasicTicker\"}},\"id\":\"f7cc0eda-3ba6-43b8-966d-f515d1665f75\",\"type\":\"Grid\"},{\"attributes\":{},\"id\":\"8cc7dbff-c8b3-433c-812a-c63fe2c58e0d\",\"type\":\"BasicTicker\"},{\"attributes\":{\"callback\":null},\"id\":\"5bb9cc17-f2ab-4f52-ba42-1c94deea609a\",\"type\":\"DataRange1d\"},{\"attributes\":{\"axis_label\":\"Rating\",\"formatter\":{\"id\":\"c60fe3dc-fa92-4486-a053-ab92787c051f\",\"type\":\"BasicTickFormatter\"},\"plot\":{\"id\":\"ccd0bd86-a916-4065-988f-447328c30446\",\"subtype\":\"Figure\",\"type\":\"Plot\"},\"ticker\":{\"id\":\"32b0b832-a3ce-478e-9d92-145edc893375\",\"type\":\"BasicTicker\"}},\"id\":\"1f147d8c-7ce5-4d85-8331-2c8ea4b826fc\",\"type\":\"LinearAxis\"},{\"attributes\":{\"callback\":null},\"id\":\"3967044f-eb21-4524-92ad-8d6ac20e47b7\",\"type\":\"DataRange1d\"},{\"attributes\":{\"callback\":null,\"data\":{\"top\":{\"__ndarray__\":\"vnHvkQzdDUDFL4mQalkQQJCOpUyCXRFAL7rooosuCkCvobyG8hoEQH163Iz9YQhA\",\"dtype\":\"float64\",\"shape\":[6]},\"x\":[1,2,3,4,5,6]},\"selected\":{\"id\":\"be0dbfce-0af2-4fab-8133-4cf88880c780\",\"type\":\"Selection\"},\"selection_policy\":{\"id\":\"9704c056-3d13-488b-8494-aa81e680e4b8\",\"type\":\"UnionRenderers\"}},\"id\":\"44574578-c27a-4267-ab7d-d24c4e277a01\",\"type\":\"ColumnDataSource\"},{\"attributes\":{},\"id\":\"9ceeef40-7ffc-4256-8f29-92478e50951d\",\"type\":\"LinearScale\"},{\"attributes\":{},\"id\":\"32b0b832-a3ce-478e-9d92-145edc893375\",\"type\":\"BasicTicker\"},{\"attributes\":{\"dimension\":1,\"plot\":{\"id\":\"ccd0bd86-a916-4065-988f-447328c30446\",\"subtype\":\"Figure\",\"type\":\"Plot\"},\"ticker\":{\"id\":\"32b0b832-a3ce-478e-9d92-145edc893375\",\"type\":\"BasicTicker\"}},\"id\":\"29230400-79f2-49ab-be0c-9cab9a4de083\",\"type\":\"Grid\"},{\"attributes\":{\"active_drag\":\"auto\",\"active_inspect\":\"auto\",\"active_multi\":null,\"active_scroll\":\"auto\",\"active_tap\":\"auto\"},\"id\":\"1a4450c8-36f7-4a7a-9d7a-aa78bdb4ef5b\",\"type\":\"Toolbar\"},{\"attributes\":{\"data_source\":{\"id\":\"44574578-c27a-4267-ab7d-d24c4e277a01\",\"type\":\"ColumnDataSource\"},\"glyph\":{\"id\":\"c58e4d30-9a7e-41cd-bdcc-2214eac02021\",\"type\":\"VBar\"},\"hover_glyph\":null,\"muted_glyph\":null,\"nonselection_glyph\":{\"id\":\"6b9aee3f-abd8-4251-8662-95d3c341f932\",\"type\":\"VBar\"},\"selection_glyph\":null,\"view\":{\"id\":\"5d51541f-88c1-4c18-ba65-13fed7071549\",\"type\":\"CDSView\"}},\"id\":\"621a3c72-0ba4-45e4-91fe-0f99d70f55b8\",\"type\":\"GlyphRenderer\"},{\"attributes\":{\"source\":{\"id\":\"44574578-c27a-4267-ab7d-d24c4e277a01\",\"type\":\"ColumnDataSource\"}},\"id\":\"5d51541f-88c1-4c18-ba65-13fed7071549\",\"type\":\"CDSView\"},{\"attributes\":{},\"id\":\"9704c056-3d13-488b-8494-aa81e680e4b8\",\"type\":\"UnionRenderers\"},{\"attributes\":{\"fill_color\":{\"value\":\"#1f77b4\"},\"line_color\":{\"value\":\"#1f77b4\"},\"top\":{\"field\":\"top\"},\"width\":{\"value\":0.8},\"x\":{\"field\":\"x\"}},\"id\":\"c58e4d30-9a7e-41cd-bdcc-2214eac02021\",\"type\":\"VBar\"},{\"attributes\":{},\"id\":\"be0dbfce-0af2-4fab-8133-4cf88880c780\",\"type\":\"Selection\"},{\"attributes\":{},\"id\":\"11b6336e-6569-4473-a253-3b44dba083a1\",\"type\":\"BasicTickFormatter\"},{\"attributes\":{\"plot\":null,\"text\":\"Highest Ranked Episode\"},\"id\":\"993e1c7f-1fc4-4373-9cf7-5c106af740df\",\"type\":\"Title\"},{\"attributes\":{},\"id\":\"26a9da17-8f2e-4a18-a5ce-9fb13c4b0f3b\",\"type\":\"LinearScale\"}],\"root_ids\":[\"ccd0bd86-a916-4065-988f-447328c30446\"]},\"title\":\"Bokeh Application\",\"version\":\"0.13.0\"}};\n",
       "  var render_items = [{\"docid\":\"f7657c4b-951f-4d2d-8a98-fda3c473269c\",\"roots\":{\"ccd0bd86-a916-4065-988f-447328c30446\":\"9ab1729b-de49-4f32-8c1c-5c0793bc01af\"}}];\n",
       "  root.Bokeh.embed.embed_items_notebook(docs_json, render_items);\n",
       "\n",
       "  }\n",
       "  if (root.Bokeh !== undefined) {\n",
       "    embed_document(root);\n",
       "  } else {\n",
       "    var attempts = 0;\n",
       "    var timer = setInterval(function(root) {\n",
       "      if (root.Bokeh !== undefined) {\n",
       "        embed_document(root);\n",
       "        clearInterval(timer);\n",
       "      }\n",
       "      attempts++;\n",
       "      if (attempts > 100) {\n",
       "        console.log(\"Bokeh: ERROR: Unable to run BokehJS code because BokehJS library is missing\")\n",
       "        clearInterval(timer);\n",
       "      }\n",
       "    }, 10, root)\n",
       "  }\n",
       "})(window);"
      ],
      "application/vnd.bokehjs_exec.v0+json": ""
     },
     "metadata": {
      "application/vnd.bokehjs_exec.v0+json": {
       "id": "ccd0bd86-a916-4065-988f-447328c30446"
      }
     },
     "output_type": "display_data"
    }
   ],
   "source": [
    "ax = data[data.columns[9:15]].mean()\n",
    "p = figure(plot_height=350, title=\"Highest Ranked Episode\",\n",
    "           toolbar_location=None, tools=\"\")\n",
    "\n",
    "p.vbar(x=[1,2,3,4,5,6], top=ax, width=0.8)\n",
    "p.yaxis.axis_label = 'Rating'\n",
    "p.xaxis.major_label_overrides = {1: 'Ep 1', 2: 'Ep 2', 3: 'Ep 3', 4:'Ep 4', 5: 'Ep 5', 6: 'Ep 6'}\n",
    "\n",
    "show(p)\n"
   ]
  },
  {
   "cell_type": "markdown",
   "metadata": {},
   "source": [
    "From the above Bar chart we can see that Star Wars Episode 5 has the highest rating (Lower Rating is better as mentioned in Dataset). Higher ranking means less liked. That’s because 1 = ‘Most Liked’ all the way through 6 = ‘Least Liked’."
   ]
  },
  {
   "cell_type": "markdown",
   "metadata": {},
   "source": [
    "## Most viewed Movie"
   ]
  },
  {
   "cell_type": "code",
   "execution_count": 104,
   "metadata": {},
   "outputs": [],
   "source": [
    "mv_seen = data[data.columns[3:9]].sum()"
   ]
  },
  {
   "cell_type": "code",
   "execution_count": 105,
   "metadata": {},
   "outputs": [
    {
     "data": {
      "text/plain": [
       "episode_1    673\n",
       "episode_2    571\n",
       "episode_3    550\n",
       "episode_4    607\n",
       "episode_5    758\n",
       "episode_6    738\n",
       "dtype: int64"
      ]
     },
     "execution_count": 105,
     "metadata": {},
     "output_type": "execute_result"
    }
   ],
   "source": [
    "mv_seen"
   ]
  },
  {
   "cell_type": "code",
   "execution_count": 106,
   "metadata": {},
   "outputs": [
    {
     "data": {
      "text/html": [
       "\n",
       "\n",
       "\n",
       "\n",
       "\n",
       "\n",
       "  <div class=\"bk-root\" id=\"06a188f8-627f-40d9-96c4-40f2ccc55c63\"></div>\n"
      ]
     },
     "metadata": {},
     "output_type": "display_data"
    },
    {
     "data": {
      "application/javascript": [
       "(function(root) {\n",
       "  function embed_document(root) {\n",
       "    \n",
       "  var docs_json = {\"78a03c6e-a616-4caa-8177-ab19c58daaea\":{\"roots\":{\"references\":[{\"attributes\":{\"data_source\":{\"id\":\"59accf5e-3e21-4e58-8baf-d8bbe477356f\",\"type\":\"ColumnDataSource\"},\"glyph\":{\"id\":\"2aa97cb2-0725-4cf7-a752-0e999679905c\",\"type\":\"VBar\"},\"hover_glyph\":null,\"muted_glyph\":null,\"nonselection_glyph\":{\"id\":\"bbd7be7b-31dc-4f0c-a063-3a62f73ff92b\",\"type\":\"VBar\"},\"selection_glyph\":null,\"view\":{\"id\":\"76caadcc-40ad-45c1-9581-143f44c2f9ac\",\"type\":\"CDSView\"}},\"id\":\"cf9aada0-9c95-4a34-a8e7-54de48d2ffd8\",\"type\":\"GlyphRenderer\"},{\"attributes\":{\"fill_color\":{\"value\":\"#1f77b4\"},\"line_color\":{\"value\":\"#1f77b4\"},\"top\":{\"field\":\"top\"},\"width\":{\"value\":0.8},\"x\":{\"field\":\"x\"}},\"id\":\"2aa97cb2-0725-4cf7-a752-0e999679905c\",\"type\":\"VBar\"},{\"attributes\":{\"dimension\":1,\"plot\":{\"id\":\"24cb0965-fbcf-44d6-81bc-7492f940295e\",\"subtype\":\"Figure\",\"type\":\"Plot\"},\"ticker\":{\"id\":\"a976d9ac-a88b-438a-be6d-42d9cac9f248\",\"type\":\"BasicTicker\"}},\"id\":\"5aed9bcd-22d6-428b-a0f2-0ffa78019664\",\"type\":\"Grid\"},{\"attributes\":{},\"id\":\"a976d9ac-a88b-438a-be6d-42d9cac9f248\",\"type\":\"BasicTicker\"},{\"attributes\":{\"axis_label\":\"Total Respondent\",\"formatter\":{\"id\":\"f116abc8-8b79-4434-8ec3-791043a4c868\",\"type\":\"BasicTickFormatter\"},\"plot\":{\"id\":\"24cb0965-fbcf-44d6-81bc-7492f940295e\",\"subtype\":\"Figure\",\"type\":\"Plot\"},\"ticker\":{\"id\":\"a976d9ac-a88b-438a-be6d-42d9cac9f248\",\"type\":\"BasicTicker\"}},\"id\":\"595a1907-2a15-4515-ba44-11148767104a\",\"type\":\"LinearAxis\"},{\"attributes\":{\"callback\":null},\"id\":\"cbe27d06-5cb8-4995-ac18-21839512081b\",\"type\":\"DataRange1d\"},{\"attributes\":{\"active_drag\":\"auto\",\"active_inspect\":\"auto\",\"active_multi\":null,\"active_scroll\":\"auto\",\"active_tap\":\"auto\"},\"id\":\"554ac924-6242-44e1-a15e-0ebabea66dad\",\"type\":\"Toolbar\"},{\"attributes\":{\"formatter\":{\"id\":\"0ada3cb3-9446-4725-94fd-23b4657d2be6\",\"type\":\"BasicTickFormatter\"},\"major_label_overrides\":{\"1\":\"Ep 1\",\"2\":\"Ep 2\",\"3\":\"Ep 3\",\"4\":\"Ep 4\",\"5\":\"Ep 5\",\"6\":\"Ep 6\"},\"plot\":{\"id\":\"24cb0965-fbcf-44d6-81bc-7492f940295e\",\"subtype\":\"Figure\",\"type\":\"Plot\"},\"ticker\":{\"id\":\"848c6d24-f517-4bd5-896e-d1f81a2389e6\",\"type\":\"BasicTicker\"}},\"id\":\"2f7dc15a-58d1-40d2-8f74-f60edd4bf4f3\",\"type\":\"LinearAxis\"},{\"attributes\":{\"plot\":null,\"text\":\"Most viewed Movie\"},\"id\":\"b5b174ae-9f52-4457-814a-c78d4ae5fc25\",\"type\":\"Title\"},{\"attributes\":{\"plot\":{\"id\":\"24cb0965-fbcf-44d6-81bc-7492f940295e\",\"subtype\":\"Figure\",\"type\":\"Plot\"},\"ticker\":{\"id\":\"848c6d24-f517-4bd5-896e-d1f81a2389e6\",\"type\":\"BasicTicker\"}},\"id\":\"39c1de16-e859-4c8b-94ce-d2e69aa06a11\",\"type\":\"Grid\"},{\"attributes\":{\"callback\":null,\"data\":{\"top\":[673,571,550,607,758,738],\"x\":[1,2,3,4,5,6]},\"selected\":{\"id\":\"f518bf70-c175-4646-9b12-e25e2354634b\",\"type\":\"Selection\"},\"selection_policy\":{\"id\":\"df1c4a8d-ec88-492f-90d4-573b1c30ab2e\",\"type\":\"UnionRenderers\"}},\"id\":\"59accf5e-3e21-4e58-8baf-d8bbe477356f\",\"type\":\"ColumnDataSource\"},{\"attributes\":{},\"id\":\"76b84330-54fc-43c3-b829-2f126db99e4e\",\"type\":\"LinearScale\"},{\"attributes\":{\"callback\":null},\"id\":\"d9bf6f02-4eb1-48e4-9520-de1df4328fc4\",\"type\":\"DataRange1d\"},{\"attributes\":{},\"id\":\"0967e5e6-9055-4b21-a2fb-bf998a979569\",\"type\":\"LinearScale\"},{\"attributes\":{},\"id\":\"848c6d24-f517-4bd5-896e-d1f81a2389e6\",\"type\":\"BasicTicker\"},{\"attributes\":{\"below\":[{\"id\":\"2f7dc15a-58d1-40d2-8f74-f60edd4bf4f3\",\"type\":\"LinearAxis\"}],\"left\":[{\"id\":\"595a1907-2a15-4515-ba44-11148767104a\",\"type\":\"LinearAxis\"}],\"plot_height\":350,\"renderers\":[{\"id\":\"2f7dc15a-58d1-40d2-8f74-f60edd4bf4f3\",\"type\":\"LinearAxis\"},{\"id\":\"39c1de16-e859-4c8b-94ce-d2e69aa06a11\",\"type\":\"Grid\"},{\"id\":\"595a1907-2a15-4515-ba44-11148767104a\",\"type\":\"LinearAxis\"},{\"id\":\"5aed9bcd-22d6-428b-a0f2-0ffa78019664\",\"type\":\"Grid\"},{\"id\":\"cf9aada0-9c95-4a34-a8e7-54de48d2ffd8\",\"type\":\"GlyphRenderer\"}],\"title\":{\"id\":\"b5b174ae-9f52-4457-814a-c78d4ae5fc25\",\"type\":\"Title\"},\"toolbar\":{\"id\":\"554ac924-6242-44e1-a15e-0ebabea66dad\",\"type\":\"Toolbar\"},\"toolbar_location\":null,\"x_range\":{\"id\":\"cbe27d06-5cb8-4995-ac18-21839512081b\",\"type\":\"DataRange1d\"},\"x_scale\":{\"id\":\"0967e5e6-9055-4b21-a2fb-bf998a979569\",\"type\":\"LinearScale\"},\"y_range\":{\"id\":\"d9bf6f02-4eb1-48e4-9520-de1df4328fc4\",\"type\":\"DataRange1d\"},\"y_scale\":{\"id\":\"76b84330-54fc-43c3-b829-2f126db99e4e\",\"type\":\"LinearScale\"}},\"id\":\"24cb0965-fbcf-44d6-81bc-7492f940295e\",\"subtype\":\"Figure\",\"type\":\"Plot\"},{\"attributes\":{},\"id\":\"f518bf70-c175-4646-9b12-e25e2354634b\",\"type\":\"Selection\"},{\"attributes\":{},\"id\":\"0ada3cb3-9446-4725-94fd-23b4657d2be6\",\"type\":\"BasicTickFormatter\"},{\"attributes\":{},\"id\":\"df1c4a8d-ec88-492f-90d4-573b1c30ab2e\",\"type\":\"UnionRenderers\"},{\"attributes\":{\"fill_alpha\":{\"value\":0.1},\"fill_color\":{\"value\":\"#1f77b4\"},\"line_alpha\":{\"value\":0.1},\"line_color\":{\"value\":\"#1f77b4\"},\"top\":{\"field\":\"top\"},\"width\":{\"value\":0.8},\"x\":{\"field\":\"x\"}},\"id\":\"bbd7be7b-31dc-4f0c-a063-3a62f73ff92b\",\"type\":\"VBar\"},{\"attributes\":{\"source\":{\"id\":\"59accf5e-3e21-4e58-8baf-d8bbe477356f\",\"type\":\"ColumnDataSource\"}},\"id\":\"76caadcc-40ad-45c1-9581-143f44c2f9ac\",\"type\":\"CDSView\"},{\"attributes\":{},\"id\":\"f116abc8-8b79-4434-8ec3-791043a4c868\",\"type\":\"BasicTickFormatter\"}],\"root_ids\":[\"24cb0965-fbcf-44d6-81bc-7492f940295e\"]},\"title\":\"Bokeh Application\",\"version\":\"0.13.0\"}};\n",
       "  var render_items = [{\"docid\":\"78a03c6e-a616-4caa-8177-ab19c58daaea\",\"roots\":{\"24cb0965-fbcf-44d6-81bc-7492f940295e\":\"06a188f8-627f-40d9-96c4-40f2ccc55c63\"}}];\n",
       "  root.Bokeh.embed.embed_items_notebook(docs_json, render_items);\n",
       "\n",
       "  }\n",
       "  if (root.Bokeh !== undefined) {\n",
       "    embed_document(root);\n",
       "  } else {\n",
       "    var attempts = 0;\n",
       "    var timer = setInterval(function(root) {\n",
       "      if (root.Bokeh !== undefined) {\n",
       "        embed_document(root);\n",
       "        clearInterval(timer);\n",
       "      }\n",
       "      attempts++;\n",
       "      if (attempts > 100) {\n",
       "        console.log(\"Bokeh: ERROR: Unable to run BokehJS code because BokehJS library is missing\")\n",
       "        clearInterval(timer);\n",
       "      }\n",
       "    }, 10, root)\n",
       "  }\n",
       "})(window);"
      ],
      "application/vnd.bokehjs_exec.v0+json": ""
     },
     "metadata": {
      "application/vnd.bokehjs_exec.v0+json": {
       "id": "24cb0965-fbcf-44d6-81bc-7492f940295e"
      }
     },
     "output_type": "display_data"
    }
   ],
   "source": [
    "p = figure(plot_height=350, title=\"Most viewed Movie\",\n",
    "           toolbar_location=None, tools=\"\")\n",
    "\n",
    "p.vbar(x=[1,2,3,4,5,6], top=mv_seen, width=0.8)\n",
    "p.yaxis.axis_label = 'Total Respondent'\n",
    "p.xaxis.major_label_overrides = {1: 'Ep 1', 2: 'Ep 2', 3: 'Ep 3', 4:'Ep 4', 5: 'Ep 5', 6: 'Ep 6'}\n",
    "\n",
    "show(p)\n"
   ]
  },
  {
   "cell_type": "markdown",
   "metadata": {},
   "source": [
    "More respondants saw the movies(4-5-6)"
   ]
  },
  {
   "cell_type": "markdown",
   "metadata": {},
   "source": [
    "## Exploring Data by Gender Segmentation"
   ]
  },
  {
   "cell_type": "code",
   "execution_count": 107,
   "metadata": {},
   "outputs": [],
   "source": [
    "males = data[data[\"Gender\"] == \"Male\"]\n",
    "females = data[data[\"Gender\"] == \"Female\" ]"
   ]
  },
  {
   "cell_type": "code",
   "execution_count": 108,
   "metadata": {},
   "outputs": [
    {
     "data": {
      "text/html": [
       "<div>\n",
       "<style scoped>\n",
       "    .dataframe tbody tr th:only-of-type {\n",
       "        vertical-align: middle;\n",
       "    }\n",
       "\n",
       "    .dataframe tbody tr th {\n",
       "        vertical-align: top;\n",
       "    }\n",
       "\n",
       "    .dataframe thead th {\n",
       "        text-align: right;\n",
       "    }\n",
       "</style>\n",
       "<table border=\"1\" class=\"dataframe\">\n",
       "  <thead>\n",
       "    <tr style=\"text-align: right;\">\n",
       "      <th></th>\n",
       "      <th>males</th>\n",
       "      <th>females</th>\n",
       "    </tr>\n",
       "  </thead>\n",
       "  <tbody>\n",
       "    <tr>\n",
       "      <th>Rank_1</th>\n",
       "      <td>4.037825</td>\n",
       "      <td>3.429293</td>\n",
       "    </tr>\n",
       "    <tr>\n",
       "      <th>Rank_2</th>\n",
       "      <td>4.224586</td>\n",
       "      <td>3.954660</td>\n",
       "    </tr>\n",
       "    <tr>\n",
       "      <th>Rank_3</th>\n",
       "      <td>4.274882</td>\n",
       "      <td>4.418136</td>\n",
       "    </tr>\n",
       "    <tr>\n",
       "      <th>Rank_4</th>\n",
       "      <td>2.997636</td>\n",
       "      <td>3.544081</td>\n",
       "    </tr>\n",
       "    <tr>\n",
       "      <th>Rank_5</th>\n",
       "      <td>2.458629</td>\n",
       "      <td>2.569270</td>\n",
       "    </tr>\n",
       "    <tr>\n",
       "      <th>Rank_6</th>\n",
       "      <td>3.002364</td>\n",
       "      <td>3.078086</td>\n",
       "    </tr>\n",
       "  </tbody>\n",
       "</table>\n",
       "</div>"
      ],
      "text/plain": [
       "           males   females\n",
       "Rank_1  4.037825  3.429293\n",
       "Rank_2  4.224586  3.954660\n",
       "Rank_3  4.274882  4.418136\n",
       "Rank_4  2.997636  3.544081\n",
       "Rank_5  2.458629  2.569270\n",
       "Rank_6  3.002364  3.078086"
      ]
     },
     "execution_count": 108,
     "metadata": {},
     "output_type": "execute_result"
    }
   ],
   "source": [
    "ranking_by_gender = pd.DataFrame({'males':males[males.columns[9:15]].mean(),\n",
    "                              'females':females[females.columns[9:15]].mean()})\n",
    "ranking_by_gender"
   ]
  },
  {
   "cell_type": "code",
   "execution_count": 109,
   "metadata": {},
   "outputs": [
    {
     "data": {
      "text/html": [
       "<div>\n",
       "<style scoped>\n",
       "    .dataframe tbody tr th:only-of-type {\n",
       "        vertical-align: middle;\n",
       "    }\n",
       "\n",
       "    .dataframe tbody tr th {\n",
       "        vertical-align: top;\n",
       "    }\n",
       "\n",
       "    .dataframe thead th {\n",
       "        text-align: right;\n",
       "    }\n",
       "</style>\n",
       "<table border=\"1\" class=\"dataframe\">\n",
       "  <thead>\n",
       "    <tr style=\"text-align: right;\">\n",
       "      <th></th>\n",
       "      <th>males</th>\n",
       "      <th>females</th>\n",
       "    </tr>\n",
       "  </thead>\n",
       "  <tbody>\n",
       "    <tr>\n",
       "      <th>episode_1</th>\n",
       "      <td>361</td>\n",
       "      <td>298</td>\n",
       "    </tr>\n",
       "    <tr>\n",
       "      <th>episode_2</th>\n",
       "      <td>323</td>\n",
       "      <td>237</td>\n",
       "    </tr>\n",
       "    <tr>\n",
       "      <th>episode_3</th>\n",
       "      <td>317</td>\n",
       "      <td>222</td>\n",
       "    </tr>\n",
       "    <tr>\n",
       "      <th>episode_4</th>\n",
       "      <td>342</td>\n",
       "      <td>255</td>\n",
       "    </tr>\n",
       "    <tr>\n",
       "      <th>episode_5</th>\n",
       "      <td>392</td>\n",
       "      <td>353</td>\n",
       "    </tr>\n",
       "    <tr>\n",
       "      <th>episode_6</th>\n",
       "      <td>387</td>\n",
       "      <td>338</td>\n",
       "    </tr>\n",
       "  </tbody>\n",
       "</table>\n",
       "</div>"
      ],
      "text/plain": [
       "           males  females\n",
       "episode_1    361      298\n",
       "episode_2    323      237\n",
       "episode_3    317      222\n",
       "episode_4    342      255\n",
       "episode_5    392      353\n",
       "episode_6    387      338"
      ]
     },
     "execution_count": 109,
     "metadata": {},
     "output_type": "execute_result"
    }
   ],
   "source": [
    "seen_by_gender = pd.DataFrame({'males':males[males.columns[3:9]].sum(),\n",
    "                              'females':females[females.columns[3:9]].sum()})\n",
    "seen_by_gender"
   ]
  },
  {
   "cell_type": "code",
   "execution_count": 110,
   "metadata": {},
   "outputs": [
    {
     "data": {
      "text/plain": [
       "[Text(0,0,'Episode I '),\n",
       " Text(0,0,'Episode II'),\n",
       " Text(0,0,'Episode III '),\n",
       " Text(0,0,'Episode IV '),\n",
       " Text(0,0,'Episode V '),\n",
       " Text(0,0,'Episode VI')]"
      ]
     },
     "execution_count": 110,
     "metadata": {},
     "output_type": "execute_result"
    },
    {
     "data": {
      "image/png": "[encoded data removed]",
      "text/plain": [
       "<Figure size 1080x360 with 2 Axes>"
      ]
     },
     "metadata": {
      "needs_background": "light"
     },
     "output_type": "display_data"
    }
   ],
   "source": [
    "fig = plt.figure(figsize=(15, 5))\n",
    "x1 = fig.add_subplot(1, 2, 1)\n",
    "x2 = fig.add_subplot(1, 2, 2)\n",
    "x1 = ranking_by_gender.plot(kind = 'bar' ,ax=x1)\n",
    "x1.set_xticklabels(['Episode I ','Episode II','Episode III ','Episode IV ','Episode V ',\n",
    "                'Episode VI'])\n",
    "x2 = seen_by_gender.plot(kind = 'bar',ax=x2)\n",
    "x2.set_xticklabels(['Episode I ','Episode II','Episode III ','Episode IV ','Episode V ',\n",
    "                'Episode VI'])"
   ]
  },
  {
   "cell_type": "markdown",
   "metadata": {},
   "source": [
    "More number of males have watched the movies, and in case of reviews given by females are more as compared to male\n",
    "Most of the females who have watched the movie have given the review aswell"
   ]
  },
  {
   "cell_type": "code",
   "execution_count": 111,
   "metadata": {},
   "outputs": [
    {
     "data": {
      "text/html": [
       "<div>\n",
       "<style scoped>\n",
       "    .dataframe tbody tr th:only-of-type {\n",
       "        vertical-align: middle;\n",
       "    }\n",
       "\n",
       "    .dataframe tbody tr th {\n",
       "        vertical-align: top;\n",
       "    }\n",
       "\n",
       "    .dataframe thead th {\n",
       "        text-align: right;\n",
       "    }\n",
       "</style>\n",
       "<table border=\"1\" class=\"dataframe\">\n",
       "  <thead>\n",
       "    <tr style=\"text-align: right;\">\n",
       "      <th></th>\n",
       "      <th>episode_2</th>\n",
       "      <th>episode_3</th>\n",
       "      <th>episode_4</th>\n",
       "      <th>episode_5</th>\n",
       "      <th>episode_6</th>\n",
       "    </tr>\n",
       "    <tr>\n",
       "      <th>Education</th>\n",
       "      <th></th>\n",
       "      <th></th>\n",
       "      <th></th>\n",
       "      <th></th>\n",
       "      <th></th>\n",
       "    </tr>\n",
       "  </thead>\n",
       "  <tbody>\n",
       "    <tr>\n",
       "      <th>Bachelor degree</th>\n",
       "      <td>170.0</td>\n",
       "      <td>163.0</td>\n",
       "      <td>195.0</td>\n",
       "      <td>243.0</td>\n",
       "      <td>234.0</td>\n",
       "    </tr>\n",
       "    <tr>\n",
       "      <th>Graduate degree</th>\n",
       "      <td>149.0</td>\n",
       "      <td>139.0</td>\n",
       "      <td>163.0</td>\n",
       "      <td>207.0</td>\n",
       "      <td>201.0</td>\n",
       "    </tr>\n",
       "    <tr>\n",
       "      <th>High school degree</th>\n",
       "      <td>48.0</td>\n",
       "      <td>48.0</td>\n",
       "      <td>53.0</td>\n",
       "      <td>61.0</td>\n",
       "      <td>60.0</td>\n",
       "    </tr>\n",
       "    <tr>\n",
       "      <th>Less than high school degree</th>\n",
       "      <td>3.0</td>\n",
       "      <td>3.0</td>\n",
       "      <td>3.0</td>\n",
       "      <td>3.0</td>\n",
       "      <td>3.0</td>\n",
       "    </tr>\n",
       "    <tr>\n",
       "      <th>Some college or Associate degree</th>\n",
       "      <td>186.0</td>\n",
       "      <td>183.0</td>\n",
       "      <td>180.0</td>\n",
       "      <td>227.0</td>\n",
       "      <td>223.0</td>\n",
       "    </tr>\n",
       "  </tbody>\n",
       "</table>\n",
       "</div>"
      ],
      "text/plain": [
       "                                  episode_2  episode_3  episode_4  episode_5  \\\n",
       "Education                                                                      \n",
       "Bachelor degree                       170.0      163.0      195.0      243.0   \n",
       "Graduate degree                       149.0      139.0      163.0      207.0   \n",
       "High school degree                     48.0       48.0       53.0       61.0   \n",
       "Less than high school degree            3.0        3.0        3.0        3.0   \n",
       "Some college or Associate degree      186.0      183.0      180.0      227.0   \n",
       "\n",
       "                                  episode_6  \n",
       "Education                                    \n",
       "Bachelor degree                       234.0  \n",
       "Graduate degree                       201.0  \n",
       "High school degree                     60.0  \n",
       "Less than high school degree            3.0  \n",
       "Some college or Associate degree      223.0  "
      ]
     },
     "execution_count": 111,
     "metadata": {},
     "output_type": "execute_result"
    }
   ],
   "source": [
    "'''\n",
    "Segmentation of data on Education and  Location.\n",
    "'''\n",
    "sr = data.groupby(\"Education\").sum()\n",
    "sr[sr.columns[3:8]]"
   ]
  },
  {
   "cell_type": "code",
   "execution_count": 112,
   "metadata": {},
   "outputs": [
    {
     "data": {
      "text/plain": [
       "<matplotlib.axes._subplots.AxesSubplot at 0x2c32827a940>"
      ]
     },
     "execution_count": 112,
     "metadata": {},
     "output_type": "execute_result"
    },
    {
     "data": {
      "image/png": "[encoded data removed]",
      "text/plain": [
       "<Figure size 432x288 with 1 Axes>"
      ]
     },
     "metadata": {
      "needs_background": "light"
     },
     "output_type": "display_data"
    }
   ],
   "source": [
    "sr[sr.columns[2:8]].plot(kind='bar')"
   ]
  },
  {
   "cell_type": "markdown",
   "metadata": {},
   "source": [
    "People watching star wars movies have educational background related to Bachelor Degree,Graduate degree,Some college or Associate degree."
   ]
  },
  {
   "cell_type": "code",
   "execution_count": 113,
   "metadata": {},
   "outputs": [
    {
     "data": {
      "text/html": [
       "<div>\n",
       "<style scoped>\n",
       "    .dataframe tbody tr th:only-of-type {\n",
       "        vertical-align: middle;\n",
       "    }\n",
       "\n",
       "    .dataframe tbody tr th {\n",
       "        vertical-align: top;\n",
       "    }\n",
       "\n",
       "    .dataframe thead th {\n",
       "        text-align: right;\n",
       "    }\n",
       "</style>\n",
       "<table border=\"1\" class=\"dataframe\">\n",
       "  <thead>\n",
       "    <tr style=\"text-align: right;\">\n",
       "      <th></th>\n",
       "      <th>episode_2</th>\n",
       "      <th>episode_3</th>\n",
       "      <th>episode_4</th>\n",
       "      <th>episode_5</th>\n",
       "      <th>episode_6</th>\n",
       "    </tr>\n",
       "    <tr>\n",
       "      <th>Location (Census Region)</th>\n",
       "      <th></th>\n",
       "      <th></th>\n",
       "      <th></th>\n",
       "      <th></th>\n",
       "      <th></th>\n",
       "    </tr>\n",
       "  </thead>\n",
       "  <tbody>\n",
       "    <tr>\n",
       "      <th>East North Central</th>\n",
       "      <td>89.0</td>\n",
       "      <td>89.0</td>\n",
       "      <td>95.0</td>\n",
       "      <td>128.0</td>\n",
       "      <td>121.0</td>\n",
       "    </tr>\n",
       "    <tr>\n",
       "      <th>East South Central</th>\n",
       "      <td>21.0</td>\n",
       "      <td>21.0</td>\n",
       "      <td>27.0</td>\n",
       "      <td>31.0</td>\n",
       "      <td>29.0</td>\n",
       "    </tr>\n",
       "    <tr>\n",
       "      <th>Middle Atlantic</th>\n",
       "      <td>69.0</td>\n",
       "      <td>70.0</td>\n",
       "      <td>76.0</td>\n",
       "      <td>83.0</td>\n",
       "      <td>85.0</td>\n",
       "    </tr>\n",
       "    <tr>\n",
       "      <th>Mountain</th>\n",
       "      <td>47.0</td>\n",
       "      <td>46.0</td>\n",
       "      <td>54.0</td>\n",
       "      <td>61.0</td>\n",
       "      <td>59.0</td>\n",
       "    </tr>\n",
       "    <tr>\n",
       "      <th>New England</th>\n",
       "      <td>44.0</td>\n",
       "      <td>43.0</td>\n",
       "      <td>48.0</td>\n",
       "      <td>55.0</td>\n",
       "      <td>54.0</td>\n",
       "    </tr>\n",
       "    <tr>\n",
       "      <th>Pacific</th>\n",
       "      <td>99.0</td>\n",
       "      <td>92.0</td>\n",
       "      <td>105.0</td>\n",
       "      <td>123.0</td>\n",
       "      <td>124.0</td>\n",
       "    </tr>\n",
       "    <tr>\n",
       "      <th>South Atlantic</th>\n",
       "      <td>82.0</td>\n",
       "      <td>79.0</td>\n",
       "      <td>93.0</td>\n",
       "      <td>125.0</td>\n",
       "      <td>120.0</td>\n",
       "    </tr>\n",
       "    <tr>\n",
       "      <th>West North Central</th>\n",
       "      <td>51.0</td>\n",
       "      <td>49.0</td>\n",
       "      <td>49.0</td>\n",
       "      <td>67.0</td>\n",
       "      <td>63.0</td>\n",
       "    </tr>\n",
       "    <tr>\n",
       "      <th>West South Central</th>\n",
       "      <td>58.0</td>\n",
       "      <td>50.0</td>\n",
       "      <td>49.0</td>\n",
       "      <td>70.0</td>\n",
       "      <td>69.0</td>\n",
       "    </tr>\n",
       "  </tbody>\n",
       "</table>\n",
       "</div>"
      ],
      "text/plain": [
       "                          episode_2  episode_3  episode_4  episode_5  \\\n",
       "Location (Census Region)                                               \n",
       "East North Central             89.0       89.0       95.0      128.0   \n",
       "East South Central             21.0       21.0       27.0       31.0   \n",
       "Middle Atlantic                69.0       70.0       76.0       83.0   \n",
       "Mountain                       47.0       46.0       54.0       61.0   \n",
       "New England                    44.0       43.0       48.0       55.0   \n",
       "Pacific                        99.0       92.0      105.0      123.0   \n",
       "South Atlantic                 82.0       79.0       93.0      125.0   \n",
       "West North Central             51.0       49.0       49.0       67.0   \n",
       "West South Central             58.0       50.0       49.0       70.0   \n",
       "\n",
       "                          episode_6  \n",
       "Location (Census Region)             \n",
       "East North Central            121.0  \n",
       "East South Central             29.0  \n",
       "Middle Atlantic                85.0  \n",
       "Mountain                       59.0  \n",
       "New England                    54.0  \n",
       "Pacific                       124.0  \n",
       "South Atlantic                120.0  \n",
       "West North Central             63.0  \n",
       "West South Central             69.0  "
      ]
     },
     "execution_count": 113,
     "metadata": {},
     "output_type": "execute_result"
    }
   ],
   "source": [
    "location = data.groupby(\"Location (Census Region)\").sum()\n",
    "location[location.columns[3:8]]"
   ]
  },
  {
   "cell_type": "code",
   "execution_count": 114,
   "metadata": {},
   "outputs": [
    {
     "data": {
      "text/plain": [
       "<matplotlib.axes._subplots.AxesSubplot at 0x2c32829f7f0>"
      ]
     },
     "execution_count": 114,
     "metadata": {},
     "output_type": "execute_result"
    },
    {
     "data": {
      "image/png": "[encoded data removed]",
      "text/plain": [
       "<Figure size 432x288 with 1 Axes>"
      ]
     },
     "metadata": {
      "needs_background": "light"
     },
     "output_type": "display_data"
    }
   ],
   "source": [
    "location[location.columns[2:8]].plot(kind = 'bar')"
   ]
  },
  {
   "cell_type": "markdown",
   "metadata": {},
   "source": [
    "Highest star wars movie watchers belong are from East North Central, Pacific, South Atlantic. The least star movie watchers are from East South Central."
   ]
  },
  {
   "cell_type": "markdown",
   "metadata": {},
   "source": [
    "## Segmentation of Respondents by Fans, Non fans and unknown"
   ]
  },
  {
   "cell_type": "code",
   "execution_count": 115,
   "metadata": {},
   "outputs": [],
   "source": [
    "fan = data[data['Do you consider yourself to be a fan of the Star Wars film franchise?']==1]\n",
    "not_fan = data[data['Do you consider yourself to be a fan of the Star Wars film franchise?']==0]"
   ]
  },
  {
   "cell_type": "code",
   "execution_count": 116,
   "metadata": {},
   "outputs": [
    {
     "data": {
      "text/plain": [
       "552"
      ]
     },
     "execution_count": 116,
     "metadata": {},
     "output_type": "execute_result"
    }
   ],
   "source": [
    "num_fans = len(fan)\n",
    "num_fans"
   ]
  },
  {
   "cell_type": "code",
   "execution_count": 117,
   "metadata": {},
   "outputs": [
    {
     "data": {
      "text/plain": [
       "284"
      ]
     },
     "execution_count": 117,
     "metadata": {},
     "output_type": "execute_result"
    }
   ],
   "source": [
    "num_not_fans = len(not_fan)\n",
    "num_not_fans"
   ]
  },
  {
   "cell_type": "code",
   "execution_count": 118,
   "metadata": {},
   "outputs": [
    {
     "data": {
      "text/plain": [
       "350"
      ]
     },
     "execution_count": 118,
     "metadata": {},
     "output_type": "execute_result"
    }
   ],
   "source": [
    "total_respondents = len(data)\n",
    "unknown_respondent = total_respondents - (num_fans + num_not_fans)\n",
    "unknown_respondent"
   ]
  },
  {
   "cell_type": "code",
   "execution_count": 119,
   "metadata": {},
   "outputs": [
    {
     "data": {
      "image/png": "[encoded data removed]",
      "text/plain": [
       "<Figure size 432x288 with 1 Axes>"
      ]
     },
     "metadata": {
      "needs_background": "light"
     },
     "output_type": "display_data"
    }
   ],
   "source": [
    "# What pcnt do fans, non-fans, and unknown make out of all respondents?\n",
    "val = [num_fans/total_respondents*100, num_not_fans/total_respondents*100, (total_respondents - (num_fans+num_not_fans))/total_respondents*100]\n",
    "\n",
    "fig, ax = plt.subplots()\n",
    "ax.bar(range(1,4), val, align='center', color='dodgerblue', linewidth=0)\n",
    "ax.set_ylabel('% of Total')\n",
    "ax.spines['top'].set_visible(False)\n",
    "ax.spines['right'].set_visible(False)\n",
    "ax.tick_params(length=0)\n",
    "ax.xaxis.set_ticklabels('')\n",
    "ax.set_title('Fan Category Pct of Total Respondents', loc='left', fontweight='bold', y=1.1)\n",
    "ax.text(0.88, 50, 'Fans')\n",
    "ax.text(1.80, 28, 'Not-Fans')\n",
    "ax.text(2.80, 34, 'Unknown')\n",
    "plt.tight_layout()"
   ]
  },
  {
   "cell_type": "markdown",
   "metadata": {},
   "source": [
    " About 30% of the respondents who did not specify whether they were fans or not"
   ]
  },
  {
   "cell_type": "code",
   "execution_count": 120,
   "metadata": {},
   "outputs": [
    {
     "data": {
      "text/html": [
       "\n",
       "\n",
       "\n",
       "\n",
       "\n",
       "\n",
       "  <div class=\"bk-root\" id=\"9cdc48f7-2989-4c85-bbe4-04f1b1223650\"></div>\n"
      ]
     },
     "metadata": {},
     "output_type": "display_data"
    },
    {
     "data": {
      "application/javascript": [
       "(function(root) {\n",
       "  function embed_document(root) {\n",
       "    \n",
       "  var docs_json = {\"5cfd714f-6993-40f0-8cfe-e184977ca296\":{\"roots\":{\"references\":[{\"attributes\":{},\"id\":\"8b93d246-9fc5-4707-b020-70ead85d43c9\",\"type\":\"LinearScale\"},{\"attributes\":{\"dimension\":1,\"plot\":{\"id\":\"ce28d470-ea08-46c2-a264-ce0a74858908\",\"subtype\":\"Figure\",\"type\":\"Plot\"},\"ticker\":{\"id\":\"f6886bf2-04e9-49ef-b202-71027acee519\",\"type\":\"BasicTicker\"}},\"id\":\"f0310446-cc44-4a01-ab6c-417d6fd14c68\",\"type\":\"Grid\"},{\"attributes\":{\"callback\":null},\"id\":\"d03c4fc8-3963-4967-a490-32a87e7f046a\",\"type\":\"DataRange1d\"},{\"attributes\":{\"plot\":{\"id\":\"ce28d470-ea08-46c2-a264-ce0a74858908\",\"subtype\":\"Figure\",\"type\":\"Plot\"},\"ticker\":{\"id\":\"0acd12f7-a6b4-4531-94a8-18c316f43fff\",\"type\":\"BasicTicker\"}},\"id\":\"f75cf3fa-82f9-4484-ab98-4c56485a5423\",\"type\":\"Grid\"},{\"attributes\":{\"callback\":null},\"id\":\"e22a4639-e588-4064-8273-9b254182ed78\",\"type\":\"DataRange1d\"},{\"attributes\":{\"active_drag\":\"auto\",\"active_inspect\":\"auto\",\"active_multi\":null,\"active_scroll\":\"auto\",\"active_tap\":\"auto\"},\"id\":\"4a1c8934-fc8a-4403-958b-5f1f1305e144\",\"type\":\"Toolbar\"},{\"attributes\":{},\"id\":\"f6886bf2-04e9-49ef-b202-71027acee519\",\"type\":\"BasicTicker\"},{\"attributes\":{\"axis_label\":\"No of seen\",\"formatter\":{\"id\":\"1a30f749-e649-404e-8102-2ddc295f390e\",\"type\":\"BasicTickFormatter\"},\"plot\":{\"id\":\"ce28d470-ea08-46c2-a264-ce0a74858908\",\"subtype\":\"Figure\",\"type\":\"Plot\"},\"ticker\":{\"id\":\"f6886bf2-04e9-49ef-b202-71027acee519\",\"type\":\"BasicTicker\"}},\"id\":\"32b7f739-0fab-4603-854d-de2057125560\",\"type\":\"LinearAxis\"},{\"attributes\":{},\"id\":\"76893244-e6a7-4551-8822-353f13b99928\",\"type\":\"Selection\"},{\"attributes\":{},\"id\":\"0acd12f7-a6b4-4531-94a8-18c316f43fff\",\"type\":\"BasicTicker\"},{\"attributes\":{},\"id\":\"68a8691b-f0c4-4ea0-b66c-53fe1070f3e2\",\"type\":\"UnionRenderers\"},{\"attributes\":{},\"id\":\"1a30f749-e649-404e-8102-2ddc295f390e\",\"type\":\"BasicTickFormatter\"},{\"attributes\":{\"fill_color\":{\"value\":\"#1f77b4\"},\"line_color\":{\"value\":\"#1f77b4\"},\"top\":{\"field\":\"top\"},\"width\":{\"value\":0.8},\"x\":{\"field\":\"x\"}},\"id\":\"67e0d838-f2dd-46c2-b246-6820930de117\",\"type\":\"VBar\"},{\"attributes\":{\"source\":{\"id\":\"1140d8ed-0488-42ea-9c43-58897d83dc7f\",\"type\":\"ColumnDataSource\"}},\"id\":\"5f3de336-fde7-4aff-9606-7fdabd10e77d\",\"type\":\"CDSView\"},{\"attributes\":{\"formatter\":{\"id\":\"eeb52202-e6a4-4244-a01d-916e1ce23610\",\"type\":\"BasicTickFormatter\"},\"major_label_overrides\":{\"1\":\"Ep 1\",\"2\":\"Ep 2\",\"3\":\"Ep 3\",\"4\":\"Ep 4\",\"5\":\"Ep 5\",\"6\":\"Ep 6\"},\"plot\":{\"id\":\"ce28d470-ea08-46c2-a264-ce0a74858908\",\"subtype\":\"Figure\",\"type\":\"Plot\"},\"ticker\":{\"id\":\"0acd12f7-a6b4-4531-94a8-18c316f43fff\",\"type\":\"BasicTicker\"}},\"id\":\"d794937f-832a-4de1-8e8e-e04be3dd8e7d\",\"type\":\"LinearAxis\"},{\"attributes\":{},\"id\":\"f36d9e1a-b7b7-4c50-83ec-78f952fdc7a7\",\"type\":\"LinearScale\"},{\"attributes\":{\"callback\":null,\"data\":{\"top\":{\"__ndarray__\":\"AAAAAABAf0AAAAAAAPB8QAAAAAAAIHxAAAAAAAAwfkAAAAAAANCAQAAAAAAAyIBA\",\"dtype\":\"float64\",\"shape\":[6]},\"x\":[1,2,3,4,5,6]},\"selected\":{\"id\":\"76893244-e6a7-4551-8822-353f13b99928\",\"type\":\"Selection\"},\"selection_policy\":{\"id\":\"68a8691b-f0c4-4ea0-b66c-53fe1070f3e2\",\"type\":\"UnionRenderers\"}},\"id\":\"1140d8ed-0488-42ea-9c43-58897d83dc7f\",\"type\":\"ColumnDataSource\"},{\"attributes\":{\"plot\":null,\"text\":\"Seen by Fans\"},\"id\":\"4ae84652-61d3-4cd8-8b9c-513806725b2b\",\"type\":\"Title\"},{\"attributes\":{\"fill_alpha\":{\"value\":0.1},\"fill_color\":{\"value\":\"#1f77b4\"},\"line_alpha\":{\"value\":0.1},\"line_color\":{\"value\":\"#1f77b4\"},\"top\":{\"field\":\"top\"},\"width\":{\"value\":0.8},\"x\":{\"field\":\"x\"}},\"id\":\"64da52c8-d408-4d0f-9f79-48101450c888\",\"type\":\"VBar\"},{\"attributes\":{\"below\":[{\"id\":\"d794937f-832a-4de1-8e8e-e04be3dd8e7d\",\"type\":\"LinearAxis\"}],\"left\":[{\"id\":\"32b7f739-0fab-4603-854d-de2057125560\",\"type\":\"LinearAxis\"}],\"plot_height\":350,\"renderers\":[{\"id\":\"d794937f-832a-4de1-8e8e-e04be3dd8e7d\",\"type\":\"LinearAxis\"},{\"id\":\"f75cf3fa-82f9-4484-ab98-4c56485a5423\",\"type\":\"Grid\"},{\"id\":\"32b7f739-0fab-4603-854d-de2057125560\",\"type\":\"LinearAxis\"},{\"id\":\"f0310446-cc44-4a01-ab6c-417d6fd14c68\",\"type\":\"Grid\"},{\"id\":\"03c2a442-f602-4890-abb1-886b545f4bf8\",\"type\":\"GlyphRenderer\"}],\"title\":{\"id\":\"4ae84652-61d3-4cd8-8b9c-513806725b2b\",\"type\":\"Title\"},\"toolbar\":{\"id\":\"4a1c8934-fc8a-4403-958b-5f1f1305e144\",\"type\":\"Toolbar\"},\"toolbar_location\":null,\"x_range\":{\"id\":\"d03c4fc8-3963-4967-a490-32a87e7f046a\",\"type\":\"DataRange1d\"},\"x_scale\":{\"id\":\"f36d9e1a-b7b7-4c50-83ec-78f952fdc7a7\",\"type\":\"LinearScale\"},\"y_range\":{\"id\":\"e22a4639-e588-4064-8273-9b254182ed78\",\"type\":\"DataRange1d\"},\"y_scale\":{\"id\":\"8b93d246-9fc5-4707-b020-70ead85d43c9\",\"type\":\"LinearScale\"}},\"id\":\"ce28d470-ea08-46c2-a264-ce0a74858908\",\"subtype\":\"Figure\",\"type\":\"Plot\"},{\"attributes\":{\"data_source\":{\"id\":\"1140d8ed-0488-42ea-9c43-58897d83dc7f\",\"type\":\"ColumnDataSource\"},\"glyph\":{\"id\":\"67e0d838-f2dd-46c2-b246-6820930de117\",\"type\":\"VBar\"},\"hover_glyph\":null,\"muted_glyph\":null,\"nonselection_glyph\":{\"id\":\"64da52c8-d408-4d0f-9f79-48101450c888\",\"type\":\"VBar\"},\"selection_glyph\":null,\"view\":{\"id\":\"5f3de336-fde7-4aff-9606-7fdabd10e77d\",\"type\":\"CDSView\"}},\"id\":\"03c2a442-f602-4890-abb1-886b545f4bf8\",\"type\":\"GlyphRenderer\"},{\"attributes\":{},\"id\":\"eeb52202-e6a4-4244-a01d-916e1ce23610\",\"type\":\"BasicTickFormatter\"}],\"root_ids\":[\"ce28d470-ea08-46c2-a264-ce0a74858908\"]},\"title\":\"Bokeh Application\",\"version\":\"0.13.0\"}};\n",
       "  var render_items = [{\"docid\":\"5cfd714f-6993-40f0-8cfe-e184977ca296\",\"roots\":{\"ce28d470-ea08-46c2-a264-ce0a74858908\":\"9cdc48f7-2989-4c85-bbe4-04f1b1223650\"}}];\n",
       "  root.Bokeh.embed.embed_items_notebook(docs_json, render_items);\n",
       "\n",
       "  }\n",
       "  if (root.Bokeh !== undefined) {\n",
       "    embed_document(root);\n",
       "  } else {\n",
       "    var attempts = 0;\n",
       "    var timer = setInterval(function(root) {\n",
       "      if (root.Bokeh !== undefined) {\n",
       "        embed_document(root);\n",
       "        clearInterval(timer);\n",
       "      }\n",
       "      attempts++;\n",
       "      if (attempts > 100) {\n",
       "        console.log(\"Bokeh: ERROR: Unable to run BokehJS code because BokehJS library is missing\")\n",
       "        clearInterval(timer);\n",
       "      }\n",
       "    }, 10, root)\n",
       "  }\n",
       "})(window);"
      ],
      "application/vnd.bokehjs_exec.v0+json": ""
     },
     "metadata": {
      "application/vnd.bokehjs_exec.v0+json": {
       "id": "ce28d470-ea08-46c2-a264-ce0a74858908"
      }
     },
     "output_type": "display_data"
    }
   ],
   "source": [
    "seen_by_fan = fan.columns[3:9]\n",
    "sf = fan.sum()[seen_by_fan]\n",
    "\n",
    "p = figure(plot_height=350, title=\"Seen by Fans\",\n",
    "           toolbar_location=None, tools=\"\")\n",
    "\n",
    "p.vbar(x=[1,2,3,4,5,6], top=sf, width=0.8)\n",
    "p.yaxis.axis_label = 'No of seen'\n",
    "p.xaxis.major_label_overrides = {1: 'Ep 1', 2: 'Ep 2', 3: 'Ep 3', 4:'Ep 4', 5: 'Ep 5', 6: 'Ep 6'}\n",
    "\n",
    "show(p)\n"
   ]
  },
  {
   "cell_type": "code",
   "execution_count": 121,
   "metadata": {},
   "outputs": [],
   "source": [
    "seen_by_non_fan = not_fan.columns[3:9]\n",
    "nf = not_fan.sum()[seen_by_non_fan]"
   ]
  },
  {
   "cell_type": "code",
   "execution_count": 122,
   "metadata": {},
   "outputs": [
    {
     "data": {
      "text/html": [
       "\n",
       "\n",
       "\n",
       "\n",
       "\n",
       "\n",
       "  <div class=\"bk-root\" id=\"9b524dca-5aca-4b19-bd32-594dfde6a5c1\"></div>\n"
      ]
     },
     "metadata": {},
     "output_type": "display_data"
    },
    {
     "data": {
      "application/javascript": [
       "(function(root) {\n",
       "  function embed_document(root) {\n",
       "    \n",
       "  var docs_json = {\"15dbbbcd-ae60-4fef-bc41-05c2c0c6796b\":{\"roots\":{\"references\":[{\"attributes\":{\"formatter\":{\"id\":\"1525c4f8-7f6d-4c47-88fa-3a98256bc59c\",\"type\":\"BasicTickFormatter\"},\"major_label_overrides\":{\"1\":\"Ep 1\",\"2\":\"Ep 2\",\"3\":\"Ep 3\",\"4\":\"Ep 4\",\"5\":\"Ep 5\",\"6\":\"Ep 6\"},\"plot\":{\"id\":\"264ec62d-1f0b-41cb-a5da-29508451c6e5\",\"subtype\":\"Figure\",\"type\":\"Plot\"},\"ticker\":{\"id\":\"0aa67de8-a524-475a-9f4e-15c98bd904a5\",\"type\":\"BasicTicker\"}},\"id\":\"e0e9c7c9-ae6c-47c8-b5cb-fede4e5d2f19\",\"type\":\"LinearAxis\"},{\"attributes\":{},\"id\":\"43e0db67-0162-472b-94f0-27c8fa1d1ce2\",\"type\":\"LinearScale\"},{\"attributes\":{},\"id\":\"6c8bd0d7-3700-47b8-8b65-2d920dfdc20d\",\"type\":\"BasicTickFormatter\"},{\"attributes\":{},\"id\":\"0aa67de8-a524-475a-9f4e-15c98bd904a5\",\"type\":\"BasicTicker\"},{\"attributes\":{\"axis_label\":\"No of seen\",\"formatter\":{\"id\":\"6c8bd0d7-3700-47b8-8b65-2d920dfdc20d\",\"type\":\"BasicTickFormatter\"},\"plot\":{\"id\":\"264ec62d-1f0b-41cb-a5da-29508451c6e5\",\"subtype\":\"Figure\",\"type\":\"Plot\"},\"ticker\":{\"id\":\"03a11c41-468e-44e9-9972-f14e1951ebad\",\"type\":\"BasicTicker\"}},\"id\":\"24981be2-79e1-4733-92b0-0538d7ee7ae4\",\"type\":\"LinearAxis\"},{\"attributes\":{\"active_drag\":\"auto\",\"active_inspect\":\"auto\",\"active_multi\":null,\"active_scroll\":\"auto\",\"active_tap\":\"auto\"},\"id\":\"10b4b21e-7310-499d-88b6-262ef3a48a6e\",\"type\":\"Toolbar\"},{\"attributes\":{\"callback\":null},\"id\":\"a7404d47-c3ce-46a4-a606-a36b7268f3b3\",\"type\":\"DataRange1d\"},{\"attributes\":{},\"id\":\"842e3af9-709f-4a79-bc57-bf774c1e2575\",\"type\":\"UnionRenderers\"},{\"attributes\":{},\"id\":\"1525c4f8-7f6d-4c47-88fa-3a98256bc59c\",\"type\":\"BasicTickFormatter\"},{\"attributes\":{},\"id\":\"03a11c41-468e-44e9-9972-f14e1951ebad\",\"type\":\"BasicTicker\"},{\"attributes\":{},\"id\":\"6c38935d-4620-4a6f-80f2-5ab9fc047025\",\"type\":\"Selection\"},{\"attributes\":{\"callback\":null,\"data\":{\"top\":{\"__ndarray__\":\"AAAAAACgZUAAAAAAAABbQAAAAAAAAFlAAAAAAAAAX0AAAAAAAIBrQAAAAAAAIGlA\",\"dtype\":\"float64\",\"shape\":[6]},\"x\":[1,2,3,4,5,6]},\"selected\":{\"id\":\"6c38935d-4620-4a6f-80f2-5ab9fc047025\",\"type\":\"Selection\"},\"selection_policy\":{\"id\":\"842e3af9-709f-4a79-bc57-bf774c1e2575\",\"type\":\"UnionRenderers\"}},\"id\":\"fcd30d1c-ba73-4e6e-8d65-6b8e4f6a480f\",\"type\":\"ColumnDataSource\"},{\"attributes\":{\"below\":[{\"id\":\"e0e9c7c9-ae6c-47c8-b5cb-fede4e5d2f19\",\"type\":\"LinearAxis\"}],\"left\":[{\"id\":\"24981be2-79e1-4733-92b0-0538d7ee7ae4\",\"type\":\"LinearAxis\"}],\"plot_height\":350,\"renderers\":[{\"id\":\"e0e9c7c9-ae6c-47c8-b5cb-fede4e5d2f19\",\"type\":\"LinearAxis\"},{\"id\":\"b3e1e76e-d437-4e7e-a5a2-97d559941797\",\"type\":\"Grid\"},{\"id\":\"24981be2-79e1-4733-92b0-0538d7ee7ae4\",\"type\":\"LinearAxis\"},{\"id\":\"0aff85ae-06ec-41c9-966e-78f60a85e1c7\",\"type\":\"Grid\"},{\"id\":\"9d0efd83-0bf8-4934-af27-8c09396f8a76\",\"type\":\"GlyphRenderer\"}],\"title\":{\"id\":\"b8f37b17-3dd7-4ec0-92fc-7a689a5dfa4f\",\"type\":\"Title\"},\"toolbar\":{\"id\":\"10b4b21e-7310-499d-88b6-262ef3a48a6e\",\"type\":\"Toolbar\"},\"toolbar_location\":null,\"x_range\":{\"id\":\"b7d94ab4-94ed-4adc-88fc-192d1e8bb8e0\",\"type\":\"DataRange1d\"},\"x_scale\":{\"id\":\"ea7dfbc2-d9d2-4822-a763-2750cb6bc712\",\"type\":\"LinearScale\"},\"y_range\":{\"id\":\"a7404d47-c3ce-46a4-a606-a36b7268f3b3\",\"type\":\"DataRange1d\"},\"y_scale\":{\"id\":\"43e0db67-0162-472b-94f0-27c8fa1d1ce2\",\"type\":\"LinearScale\"}},\"id\":\"264ec62d-1f0b-41cb-a5da-29508451c6e5\",\"subtype\":\"Figure\",\"type\":\"Plot\"},{\"attributes\":{\"callback\":null},\"id\":\"b7d94ab4-94ed-4adc-88fc-192d1e8bb8e0\",\"type\":\"DataRange1d\"},{\"attributes\":{\"source\":{\"id\":\"fcd30d1c-ba73-4e6e-8d65-6b8e4f6a480f\",\"type\":\"ColumnDataSource\"}},\"id\":\"4dc02c8c-5b8a-4f50-87fe-b543bb73f703\",\"type\":\"CDSView\"},{\"attributes\":{\"fill_alpha\":{\"value\":0.1},\"fill_color\":{\"value\":\"#1f77b4\"},\"line_alpha\":{\"value\":0.1},\"line_color\":{\"value\":\"#1f77b4\"},\"top\":{\"field\":\"top\"},\"width\":{\"value\":0.8},\"x\":{\"field\":\"x\"}},\"id\":\"d7a7f85c-a8c1-413b-b02a-817e918f4d97\",\"type\":\"VBar\"},{\"attributes\":{\"plot\":null,\"text\":\"Seen by Non Fans\"},\"id\":\"b8f37b17-3dd7-4ec0-92fc-7a689a5dfa4f\",\"type\":\"Title\"},{\"attributes\":{\"plot\":{\"id\":\"264ec62d-1f0b-41cb-a5da-29508451c6e5\",\"subtype\":\"Figure\",\"type\":\"Plot\"},\"ticker\":{\"id\":\"0aa67de8-a524-475a-9f4e-15c98bd904a5\",\"type\":\"BasicTicker\"}},\"id\":\"b3e1e76e-d437-4e7e-a5a2-97d559941797\",\"type\":\"Grid\"},{\"attributes\":{\"fill_color\":{\"value\":\"#1f77b4\"},\"line_color\":{\"value\":\"#1f77b4\"},\"top\":{\"field\":\"top\"},\"width\":{\"value\":0.8},\"x\":{\"field\":\"x\"}},\"id\":\"1f578670-783d-4e3a-9985-addf8824d760\",\"type\":\"VBar\"},{\"attributes\":{},\"id\":\"ea7dfbc2-d9d2-4822-a763-2750cb6bc712\",\"type\":\"LinearScale\"},{\"attributes\":{\"data_source\":{\"id\":\"fcd30d1c-ba73-4e6e-8d65-6b8e4f6a480f\",\"type\":\"ColumnDataSource\"},\"glyph\":{\"id\":\"1f578670-783d-4e3a-9985-addf8824d760\",\"type\":\"VBar\"},\"hover_glyph\":null,\"muted_glyph\":null,\"nonselection_glyph\":{\"id\":\"d7a7f85c-a8c1-413b-b02a-817e918f4d97\",\"type\":\"VBar\"},\"selection_glyph\":null,\"view\":{\"id\":\"4dc02c8c-5b8a-4f50-87fe-b543bb73f703\",\"type\":\"CDSView\"}},\"id\":\"9d0efd83-0bf8-4934-af27-8c09396f8a76\",\"type\":\"GlyphRenderer\"},{\"attributes\":{\"dimension\":1,\"plot\":{\"id\":\"264ec62d-1f0b-41cb-a5da-29508451c6e5\",\"subtype\":\"Figure\",\"type\":\"Plot\"},\"ticker\":{\"id\":\"03a11c41-468e-44e9-9972-f14e1951ebad\",\"type\":\"BasicTicker\"}},\"id\":\"0aff85ae-06ec-41c9-966e-78f60a85e1c7\",\"type\":\"Grid\"}],\"root_ids\":[\"264ec62d-1f0b-41cb-a5da-29508451c6e5\"]},\"title\":\"Bokeh Application\",\"version\":\"0.13.0\"}};\n",
       "  var render_items = [{\"docid\":\"15dbbbcd-ae60-4fef-bc41-05c2c0c6796b\",\"roots\":{\"264ec62d-1f0b-41cb-a5da-29508451c6e5\":\"9b524dca-5aca-4b19-bd32-594dfde6a5c1\"}}];\n",
       "  root.Bokeh.embed.embed_items_notebook(docs_json, render_items);\n",
       "\n",
       "  }\n",
       "  if (root.Bokeh !== undefined) {\n",
       "    embed_document(root);\n",
       "  } else {\n",
       "    var attempts = 0;\n",
       "    var timer = setInterval(function(root) {\n",
       "      if (root.Bokeh !== undefined) {\n",
       "        embed_document(root);\n",
       "        clearInterval(timer);\n",
       "      }\n",
       "      attempts++;\n",
       "      if (attempts > 100) {\n",
       "        console.log(\"Bokeh: ERROR: Unable to run BokehJS code because BokehJS library is missing\")\n",
       "        clearInterval(timer);\n",
       "      }\n",
       "    }, 10, root)\n",
       "  }\n",
       "})(window);"
      ],
      "application/vnd.bokehjs_exec.v0+json": ""
     },
     "metadata": {
      "application/vnd.bokehjs_exec.v0+json": {
       "id": "264ec62d-1f0b-41cb-a5da-29508451c6e5"
      }
     },
     "output_type": "display_data"
    }
   ],
   "source": [
    "p = figure(plot_height=350, title=\"Seen by Non Fans\",\n",
    "           toolbar_location=None, tools=\"\")\n",
    "\n",
    "p.vbar(x=[1,2,3,4,5,6], top=nf, width=0.8)\n",
    "p.yaxis.axis_label = 'No of seen'\n",
    "p.xaxis.major_label_overrides = {1: 'Ep 1', 2: 'Ep 2', 3: 'Ep 3', 4:'Ep 4', 5: 'Ep 5', 6: 'Ep 6'}\n",
    "\n",
    "show(p)\n"
   ]
  },
  {
   "cell_type": "markdown",
   "metadata": {},
   "source": [
    "The respondents who consider themselves as fans of Star Wars saw each episode, whereas non fans of star wars didn't watch all the episode."
   ]
  }
 ],
 "metadata": {
  "kernelspec": {
   "display_name": "Python 3",
   "language": "python",
   "name": "python3"
  },
  "language_info": {
   "codemirror_mode": {
    "name": "ipython",
    "version": 3
   },
   "file_extension": ".py",
   "mimetype": "text/x-python",
   "name": "python",
   "nbconvert_exporter": "python",
   "pygments_lexer": "ipython3",
   "version": "3.7.0"
  }
 },
 "nbformat": 4,
 "nbformat_minor": 2
}
